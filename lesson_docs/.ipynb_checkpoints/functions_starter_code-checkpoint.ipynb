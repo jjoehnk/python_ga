{
 "cells": [
  {
   "cell_type": "markdown",
   "metadata": {},
   "source": [
    "<img src=\"http://imgur.com/1ZcRyrc.png\" style=\"float: left; margin: 20px; height: 55px\">\n",
    "\n",
    "# Functions\n",
    "\n",
    "_Authors: Matt Brems (DC), Riley Dallas (ATX), Patrick Wales-Dinan (SF), Adi Bronshtein (Live Online)_\n",
    "\n",
    "---\n",
    "\n",
    "### Lesson objectives\n",
    "\n",
    "By the end of this lesson, you should be able to:\n",
    "\n",
    "1. Successfully **create** and **invoke** a function\n",
    "2. Understand how to use parameters in a function\n",
    "3. Understand how to return a value from a function"
   ]
  },
  {
   "cell_type": "markdown",
   "metadata": {},
   "source": [
    "## Intro\n",
    "---\n",
    "\n",
    "Functions are chunks of code that are grouped and will execute together, like a modular program within a program. A function takes input, performs logic, and returns output.\n",
    "\n",
    "Similar to the way we can use `for` loops as a means of performing repetitive tasks on a series of objects, we can also create functions to perform repetitive tasks. Within a function, we can write a large block of action and then call the function whenever we want to use it.  \n",
    "\n",
    "\n",
    "Let's make some pseudocode:\n",
    "```python\n",
    "# Define the function name and the requirements it needs.\n",
    "    # Perform actions.\n",
    "    # Optional: Return output.\n",
    "```\n",
    "\n",
    "There are a few basic components to functions:\n",
    "- they start with `def`, followed by the name of the function.\n",
    "- they take inputs (or arguments).\n",
    "- they return outputs (this is optional!)\n",
    "    - if a return statement isn't included, a function's default return is `None` (more on this later)\n",
    "- they return an indented code block just like if statements and loops\n",
    "- they are used frequently to make coding more efficient!\n",
    "\n",
    "The general **function syntax** is:\n",
    "![](imgs/python-functions.png)  \n",
    "Taken from [Learn by Example - Python Functions](https://www.learnbyexample.org/python-functions/). "
   ]
  },
  {
   "cell_type": "markdown",
   "metadata": {},
   "source": [
    "## Writing a function\n",
    "---\n",
    "\n",
    "Write a function that accepts one parameter, a name, and prints out the message \"Hello, ____\" filling in the blank with the name."
   ]
  },
  {
   "cell_type": "code",
   "execution_count": 80,
   "metadata": {},
   "outputs": [],
   "source": [
    "def greeting(name):\n",
    "    print('Hello,', name)"
   ]
  },
  {
   "cell_type": "code",
   "execution_count": 82,
   "metadata": {},
   "outputs": [
    {
     "name": "stdout",
     "output_type": "stream",
     "text": [
      "Hello, Zumba\n"
     ]
    }
   ],
   "source": [
    "greeting('Zumba')"
   ]
  },
  {
   "cell_type": "code",
   "execution_count": 11,
   "metadata": {},
   "outputs": [
    {
     "name": "stdout",
     "output_type": "stream",
     "text": [
      "Hello, Coco\n"
     ]
    }
   ],
   "source": [
    "greeting('Coco')"
   ]
  },
  {
   "cell_type": "markdown",
   "metadata": {},
   "source": [
    "Next, write a function that accepts two parameters to print a custom greeting message."
   ]
  },
  {
   "cell_type": "code",
   "execution_count": 81,
   "metadata": {},
   "outputs": [],
   "source": [
    "def custom_greeting(greeting, name):\n",
    "    print(greeting, name)"
   ]
  },
  {
   "cell_type": "code",
   "execution_count": 23,
   "metadata": {},
   "outputs": [
    {
     "name": "stdout",
     "output_type": "stream",
     "text": [
      "ello hen\n"
     ]
    }
   ],
   "source": [
    "custom_greeting('ello','hen')"
   ]
  },
  {
   "cell_type": "markdown",
   "metadata": {},
   "source": [
    "Notice that the order of the parameters matters! If we put someone's name first, it gets passed to the `greeting` variable inside the function:"
   ]
  },
  {
   "cell_type": "code",
   "execution_count": 24,
   "metadata": {},
   "outputs": [
    {
     "name": "stdout",
     "output_type": "stream",
     "text": [
      "love sup\n"
     ]
    }
   ],
   "source": [
    "custom_greeting('love', 'sup')"
   ]
  },
  {
   "cell_type": "markdown",
   "metadata": {},
   "source": [
    "We can address this by specifying which input should be assigned to which parameter using the parameter names:"
   ]
  },
  {
   "cell_type": "code",
   "execution_count": 25,
   "metadata": {},
   "outputs": [
    {
     "name": "stdout",
     "output_type": "stream",
     "text": [
      "Hi!! Zumba\n"
     ]
    }
   ],
   "source": [
    "custom_greeting(name='Zumba', greeting='Hi!!')"
   ]
  },
  {
   "cell_type": "markdown",
   "metadata": {},
   "source": [
    "Note that the variable we created in the function above, `name`, doesn't exist outside our function. If we try to print it, we get an error that says `'name' is not defined`"
   ]
  },
  {
   "cell_type": "code",
   "execution_count": 27,
   "metadata": {},
   "outputs": [],
   "source": [
    "#name"
   ]
  },
  {
   "cell_type": "markdown",
   "metadata": {},
   "source": [
    "That's because `name` here is what we call a \"local\" variable and isn't accessible outside of our function. Any variable created inside a function will be a local variable and won't exist beyond the scope of the function where it's created. \n",
    "\n",
    "Alongside local variables we also have \"global\" variables, which are variables created outside of any functions. These variables are accessible anywhere in our code once they've been created (but not before!).\n",
    "\n",
    "In the example below, we create a variable, then access it within a function without passing it as a parameter:"
   ]
  },
  {
   "cell_type": "code",
   "execution_count": 29,
   "metadata": {},
   "outputs": [
    {
     "name": "stdout",
     "output_type": "stream",
     "text": [
      "This is a global variable\n"
     ]
    }
   ],
   "source": [
    "var = 'This is a global variable'\n",
    "\n",
    "def message(): # I'm not specifying any arguments - no input variables\n",
    "    print(var)\n",
    "    \n",
    "message()"
   ]
  },
  {
   "cell_type": "markdown",
   "metadata": {},
   "source": [
    "We can also pass existing variables into our functions:"
   ]
  },
  {
   "cell_type": "code",
   "execution_count": 32,
   "metadata": {},
   "outputs": [
    {
     "name": "stdout",
     "output_type": "stream",
     "text": [
      "Hello, Lewis\n"
     ]
    }
   ],
   "source": [
    "friend = 'Lewis'\n",
    "greeting(friend)"
   ]
  },
  {
   "cell_type": "markdown",
   "metadata": {},
   "source": [
    "Write a function that accepts two numbers as parameters and returns the sum of them."
   ]
  },
  {
   "cell_type": "code",
   "execution_count": 55,
   "metadata": {},
   "outputs": [],
   "source": [
    "def calculate(num1,num2,num3=0):\n",
    "    return num1 + num2 + num3\n",
    "        "
   ]
  },
  {
   "cell_type": "code",
   "execution_count": 56,
   "metadata": {},
   "outputs": [
    {
     "data": {
      "text/plain": [
       "10"
      ]
     },
     "execution_count": 56,
     "metadata": {},
     "output_type": "execute_result"
    }
   ],
   "source": [
    "calculate(1,5,4)"
   ]
  },
  {
   "cell_type": "code",
   "execution_count": 62,
   "metadata": {},
   "outputs": [],
   "source": [
    "def addition(*numbers):\n",
    "    result = 0\n",
    "    for n in numbers:\n",
    "        result += n\n",
    "    return result"
   ]
  },
  {
   "cell_type": "markdown",
   "metadata": {},
   "source": [
    "With a return statement, we can store the result of our function in a variable using the following syntax:"
   ]
  },
  {
   "cell_type": "code",
   "execution_count": 66,
   "metadata": {},
   "outputs": [
    {
     "name": "stdout",
     "output_type": "stream",
     "text": [
      "7\n"
     ]
    }
   ],
   "source": [
    "total = addition(3, 4)\n",
    "print(total)"
   ]
  },
  {
   "cell_type": "code",
   "execution_count": 61,
   "metadata": {},
   "outputs": [
    {
     "data": {
      "text/plain": [
       "55"
      ]
     },
     "execution_count": 61,
     "metadata": {},
     "output_type": "execute_result"
    }
   ],
   "source": [
    "addition(1,2,3,4,5,6,7,8,9,10)"
   ]
  },
  {
   "cell_type": "code",
   "execution_count": 63,
   "metadata": {},
   "outputs": [],
   "source": [
    "def division(*numbers):\n",
    "    result = 1\n",
    "    for n in numbers:\n",
    "        result /= n\n",
    "    return result"
   ]
  },
  {
   "cell_type": "code",
   "execution_count": 64,
   "metadata": {},
   "outputs": [
    {
     "data": {
      "text/plain": [
       "1.1432858253335635e-06"
      ]
     },
     "execution_count": 64,
     "metadata": {},
     "output_type": "execute_result"
    }
   ],
   "source": [
    "division(40234908/23/2)"
   ]
  },
  {
   "cell_type": "markdown",
   "metadata": {},
   "source": [
    "This way, we can use outputs from our functions in other places in our code. \n",
    "\n",
    "**WARNING:** If you don't include a return statement, your function is still returning something! However, instead of a value, it will return a `None` type object. This can cause all sorts of errors in your code, so make sure you're always using a return statement when you want to use output from functions! \n",
    "\n",
    "Let's see an example of this. First, create a function that accepts two numbers as parameters and **prints** the product:"
   ]
  },
  {
   "cell_type": "code",
   "execution_count": 83,
   "metadata": {},
   "outputs": [
    {
     "name": "stdout",
     "output_type": "stream",
     "text": [
      "Hello, Roman\n",
      "None\n"
     ]
    }
   ],
   "source": [
    "output = greeting('Roman')\n",
    "print(output)"
   ]
  },
  {
   "cell_type": "markdown",
   "metadata": {},
   "source": [
    "Now, try running this function and saving the output as a variable:"
   ]
  },
  {
   "cell_type": "code",
   "execution_count": 85,
   "metadata": {},
   "outputs": [],
   "source": [
    "def multiply(num1, num2):\n",
    "    print(num1 * num2) #not returning the value, just printing it"
   ]
  },
  {
   "cell_type": "markdown",
   "metadata": {},
   "source": [
    "What happens if we try printing product?"
   ]
  },
  {
   "cell_type": "code",
   "execution_count": 86,
   "metadata": {},
   "outputs": [
    {
     "name": "stdout",
     "output_type": "stream",
     "text": [
      "9\n"
     ]
    }
   ],
   "source": [
    "product = multiply(3,3)"
   ]
  },
  {
   "cell_type": "markdown",
   "metadata": {},
   "source": [
    "We get the word `None` as output. Try printing the type of product:"
   ]
  },
  {
   "cell_type": "code",
   "execution_count": 87,
   "metadata": {},
   "outputs": [
    {
     "name": "stdout",
     "output_type": "stream",
     "text": [
      "None\n"
     ]
    }
   ],
   "source": [
    "print(product)"
   ]
  },
  {
   "cell_type": "markdown",
   "metadata": {},
   "source": [
    "Now we can see that the variable storing our function's output is actually a `NoneType` object, which we can't use in arithmetic or any other meaningful code. Always make sure to use **return** statements in functions when you mean to! \n",
    "\n",
    "That said, printing can be especially helpful for **debugging your code**, so do make use of it when needed! "
   ]
  },
  {
   "cell_type": "markdown",
   "metadata": {},
   "source": [
    "## Function Practice\n",
    "---\n",
    "\n",
    "Let's get some practice in writing functions that take a variety of data types as inputs and utilize our for loops and if statements!"
   ]
  },
  {
   "cell_type": "markdown",
   "metadata": {},
   "source": [
    "Write a function that accepts one parameter, a number. The function should return true or false depending on whether the number is even."
   ]
  },
  {
   "cell_type": "code",
   "execution_count": 90,
   "metadata": {},
   "outputs": [],
   "source": [
    "def even(num):\n",
    "    if num%2 == 0:\n",
    "        return True\n",
    "    else:\n",
    "        return False"
   ]
  },
  {
   "cell_type": "markdown",
   "metadata": {},
   "source": [
    "Use this function to check whether a few values are odd or even. What happens if you give it different data types as inputs?"
   ]
  },
  {
   "cell_type": "code",
   "execution_count": 108,
   "metadata": {},
   "outputs": [
    {
     "data": {
      "text/plain": [
       "True"
      ]
     },
     "execution_count": 108,
     "metadata": {},
     "output_type": "execute_result"
    }
   ],
   "source": [
    "even(2.0)"
   ]
  },
  {
   "cell_type": "code",
   "execution_count": 93,
   "metadata": {},
   "outputs": [
    {
     "data": {
      "text/plain": [
       "False"
      ]
     },
     "execution_count": 93,
     "metadata": {},
     "output_type": "execute_result"
    }
   ],
   "source": [
    "even(1)"
   ]
  },
  {
   "cell_type": "code",
   "execution_count": 107,
   "metadata": {},
   "outputs": [
    {
     "ename": "NameError",
     "evalue": "name 'asdlfkj' is not defined",
     "output_type": "error",
     "traceback": [
      "\u001b[1;31m---------------------------------------------------------------------------\u001b[0m",
      "\u001b[1;31mNameError\u001b[0m                                 Traceback (most recent call last)",
      "Cell \u001b[1;32mIn[107], line 1\u001b[0m\n\u001b[1;32m----> 1\u001b[0m even(\u001b[43masdlfkj\u001b[49m)\n",
      "\u001b[1;31mNameError\u001b[0m: name 'asdlfkj' is not defined"
     ]
    }
   ],
   "source": [
    "even(asdlfkj)"
   ]
  },
  {
   "cell_type": "code",
   "execution_count": 109,
   "metadata": {},
   "outputs": [
    {
     "ename": "TypeError",
     "evalue": "unsupported operand type(s) for %: 'list' and 'int'",
     "output_type": "error",
     "traceback": [
      "\u001b[1;31m---------------------------------------------------------------------------\u001b[0m",
      "\u001b[1;31mTypeError\u001b[0m                                 Traceback (most recent call last)",
      "Cell \u001b[1;32mIn[109], line 1\u001b[0m\n\u001b[1;32m----> 1\u001b[0m \u001b[43meven\u001b[49m\u001b[43m(\u001b[49m\u001b[43m[\u001b[49m\u001b[38;5;241;43m6\u001b[39;49m\u001b[43m]\u001b[49m\u001b[43m)\u001b[49m\n",
      "Cell \u001b[1;32mIn[90], line 2\u001b[0m, in \u001b[0;36meven\u001b[1;34m(num)\u001b[0m\n\u001b[0;32m      1\u001b[0m \u001b[38;5;28;01mdef\u001b[39;00m \u001b[38;5;21meven\u001b[39m(num):\n\u001b[1;32m----> 2\u001b[0m     \u001b[38;5;28;01mif\u001b[39;00m \u001b[43mnum\u001b[49m\u001b[38;5;241;43m%\u001b[39;49m\u001b[38;5;241;43m2\u001b[39;49m \u001b[38;5;241m==\u001b[39m \u001b[38;5;241m0\u001b[39m:\n\u001b[0;32m      3\u001b[0m         \u001b[38;5;28;01mreturn\u001b[39;00m \u001b[38;5;28;01mTrue\u001b[39;00m\n\u001b[0;32m      4\u001b[0m     \u001b[38;5;28;01melse\u001b[39;00m:\n",
      "\u001b[1;31mTypeError\u001b[0m: unsupported operand type(s) for %: 'list' and 'int'"
     ]
    }
   ],
   "source": [
    "even([6])"
   ]
  },
  {
   "cell_type": "markdown",
   "metadata": {},
   "source": [
    "Write a function that accepts one parameter, a list. The function should return the sum total of all numbers in the list, using a loop.\n",
    "\n",
    "_Hint:_ Do we want a for loop or a while loop for this kind of question? "
   ]
  },
  {
   "cell_type": "code",
   "execution_count": 117,
   "metadata": {},
   "outputs": [],
   "source": [
    "def listsum(somenumma):\n",
    "    result = 0\n",
    "    for num in somenumma:\n",
    "        result += num\n",
    "    return result"
   ]
  },
  {
   "cell_type": "markdown",
   "metadata": {},
   "source": [
    "Use this function to find the sums of a few short lists. Note that you can create a list outside of a function and pass it in as a variable, or you can define a list directly inside the parentheses of your function when you invoke it."
   ]
  },
  {
   "cell_type": "code",
   "execution_count": 118,
   "metadata": {},
   "outputs": [
    {
     "data": {
      "text/plain": [
       "19"
      ]
     },
     "execution_count": 118,
     "metadata": {},
     "output_type": "execute_result"
    }
   ],
   "source": [
    "listsum([1,3,4,5,6])"
   ]
  },
  {
   "cell_type": "code",
   "execution_count": 112,
   "metadata": {},
   "outputs": [
    {
     "data": {
      "text/plain": [
       "39"
      ]
     },
     "execution_count": 112,
     "metadata": {},
     "output_type": "execute_result"
    }
   ],
   "source": [
    "exlist = [3,6,4,1,2,2,2,4,7,8]\n",
    "listsum(exlist)"
   ]
  },
  {
   "cell_type": "markdown",
   "metadata": {},
   "source": [
    "Write a function that accepts one parameter, a dictionary, which contains the first name, last name, and job title of a person. \n",
    "\n",
    "The function should print the message \"Introducing ______ ______, ________!\" Fill in the blanks with the \"first_name\", \"last_name\", and \"title\" properties of the dictionary."
   ]
  },
  {
   "cell_type": "code",
   "execution_count": 237,
   "metadata": {},
   "outputs": [],
   "source": [
    "def introducing(d):\n",
    "    print('Introducing ' + d[1], d[2] + ', ' + d[3] + '!')\n"
   ]
  },
  {
   "cell_type": "code",
   "execution_count": 239,
   "metadata": {},
   "outputs": [
    {
     "name": "stdout",
     "output_type": "stream",
     "text": [
      "Introducing David Bowie, Spaceman!\n"
     ]
    }
   ],
   "source": [
    "dictionary = {1:'David',2:'Bowie',3:'Spaceman'}\n",
    "introducing(dictionary)"
   ]
  },
  {
   "cell_type": "markdown",
   "metadata": {},
   "source": [
    "Write a function that determines whether a given list contains a given value. \n",
    "\n",
    "Note that you can include multiple return statements inside a function, but as soon as your code reaches one return statement the function will stop executing and return whatever you specify at that moment."
   ]
  },
  {
   "cell_type": "code",
   "execution_count": 231,
   "metadata": {},
   "outputs": [],
   "source": [
    "def amithere(value, listy):\n",
    "    for val in listy:\n",
    "        if value == val:\n",
    "            return True\n",
    "        else: \n",
    "            pass\n",
    "    print(\"Not in list\")"
   ]
  },
  {
   "cell_type": "code",
   "execution_count": 228,
   "metadata": {},
   "outputs": [],
   "source": [
    "somelist = [1,2,3,4,5,6,7]"
   ]
  },
  {
   "cell_type": "code",
   "execution_count": 241,
   "metadata": {},
   "outputs": [
    {
     "name": "stdout",
     "output_type": "stream",
     "text": [
      "Not in list\n"
     ]
    }
   ],
   "source": [
    "amithere(9,somelist)"
   ]
  },
  {
   "cell_type": "markdown",
   "metadata": {},
   "source": [
    "Write a function that accepts two parameters, a sentence and a letter. Your function should count how many times the given letter appears in the sentence and return that count to the user."
   ]
  },
  {
   "cell_type": "code",
   "execution_count": 287,
   "metadata": {},
   "outputs": [],
   "source": [
    "def letter_count(sentence,letter):\n",
    "    count = 0\n",
    "    for i in sentence.lower():\n",
    "        if i in letter.lower():\n",
    "            count += 1\n",
    "    #print(letter, count)\n",
    "    return count"
   ]
  },
  {
   "cell_type": "code",
   "execution_count": 288,
   "metadata": {},
   "outputs": [
    {
     "data": {
      "text/plain": [
       "5"
      ]
     },
     "execution_count": 288,
     "metadata": {},
     "output_type": "execute_result"
    }
   ],
   "source": [
    "letter_count('As;dlkfjaw;leslkdfas;klfjAs;lfjasd;lkjf', 'A')"
   ]
  },
  {
   "cell_type": "code",
   "execution_count": null,
   "metadata": {},
   "outputs": [],
   "source": []
  },
  {
   "cell_type": "markdown",
   "metadata": {},
   "source": [
    "## Calling Functions Inside Other Functions\n",
    "---\n",
    "\n",
    "Sometimes, you may write functions that you want to use inside other functions. Luckily, it's incredibly easy to do this - in fact, you already have! \n",
    "\n",
    "Anytime you use a `print()` statement inside your function, you're actually _calling the `print()` function inside the function you're writing._ \n",
    "\n",
    "Remember what we learned about global variables? Functions act the same way - if you've defined a function somewhere in your code, it's still accessible inside of other functions. \n",
    "\n",
    "Let's see how to implement this. Write a function that uses your function from the previous question to find the most common letter in a given string. "
   ]
  },
  {
   "cell_type": "markdown",
   "metadata": {},
   "source": [
    "We can approach this function using pseudocode before we start trying to write any actual code:\n",
    "\n",
    "```python\n",
    "# define a function that accepts a string\n",
    "    # choose a letter to start with\n",
    "    # how many times does this letter appear?\n",
    "    \n",
    "    # loop through all the letters in the string, one by one\n",
    "        # for each letter, count the number of occurrences using our previous function\n",
    "        # if that number is greater than any other we've seen, save it for comparison\n",
    "        \n",
    "    # at the end of the function, return the letter that showed up the most\n",
    "\n",
    "```"
   ]
  },
  {
   "cell_type": "code",
   "execution_count": 299,
   "metadata": {},
   "outputs": [],
   "source": [
    "def most_common_letter(sentence, letter):\n",
    "    max_letter = sentence[0]\n",
    "    letter_num = 1\n",
    "    \n",
    "    for letter in sentence:\n",
    "        count_check = letter_count(sentence, letter)\n",
    "        if count_check > letter_num:\n",
    "            max_letter = letter\n",
    "            letter_num = count_check\n",
    "    \n",
    "    return max_letter"
   ]
  },
  {
   "cell_type": "code",
   "execution_count": 300,
   "metadata": {},
   "outputs": [
    {
     "data": {
      "text/plain": [
       "'t'"
      ]
     },
     "execution_count": 300,
     "metadata": {},
     "output_type": "execute_result"
    }
   ],
   "source": [
    "most_common_letter('Iwanttogoto sleep', 'e')"
   ]
  },
  {
   "cell_type": "code",
   "execution_count": null,
   "metadata": {},
   "outputs": [],
   "source": []
  },
  {
   "cell_type": "markdown",
   "metadata": {},
   "source": [
    "## Challenge: DNA to RNA\n",
    "---\n",
    "\n",
    "If you've taken a Biology class, you know that DNA is essentially a long string comprised of 4 nucleotides:\n",
    "\n",
    "- Cytosine (C)\n",
    "- Thymine (T)\n",
    "- Adenine (A)\n",
    "- Guanine (G)\n",
    "\n",
    "Example:\n",
    "```python\n",
    "dna = 'ACGTAAAACGTGGTGGATTTGACGTGTTTG'\n",
    "```\n",
    "\n",
    "RNA is similar to DNA with one exception: all instances of Thymine (T) are replaced with Uracil (U). Our DNA from above would look like this:\n",
    "```python\n",
    "rna = 'ACGUAAAACGUGGUGGAUUUGACGUGUUUG'\n",
    "```\n",
    "\n",
    "In the cell below, create a function called `dna_to_rna` that accepts a string of DNA and converts it to RNA.\n",
    "\n",
    "*Bonus:* can you add somethign to ensure that the output returned is always in the proper uppercase format?"
   ]
  },
  {
   "cell_type": "code",
   "execution_count": 266,
   "metadata": {},
   "outputs": [],
   "source": [
    "def dna_to_rna(dna):\n",
    "    rna = dna.replace('T','U')\n",
    "    return rna.upper()"
   ]
  },
  {
   "cell_type": "code",
   "execution_count": 264,
   "metadata": {},
   "outputs": [],
   "source": [
    "dna = 'ACGTAAAACGTGGTGGATTTGACGTGTTTG'.lower()"
   ]
  },
  {
   "cell_type": "code",
   "execution_count": 267,
   "metadata": {},
   "outputs": [
    {
     "data": {
      "text/plain": [
       "'ACGTAAAACGTGGTGGATTTGACGTGTTTG'"
      ]
     },
     "execution_count": 267,
     "metadata": {},
     "output_type": "execute_result"
    }
   ],
   "source": [
    "dna_to_rna(dna)"
   ]
  },
  {
   "cell_type": "markdown",
   "metadata": {},
   "source": [
    "## Challenge: Hamming Distance\n",
    "---\n",
    "\n",
    "The DNA strand `'AAAA'` is similar to the strand `'AAAT'` with one exception: the 4th nucleotide is different. In other words, the two strands have a **hamming distance** of 1, where hamming distance is the number of nucleotides that differ between two strands.\n",
    "\n",
    "In the cell below, create a function called `hamming_distance` that accepts two parameters (`dna1` and `dna2`) and calculates the hamming distance between the two strands. \n",
    "\n",
    "**NOTE:** You can assume the two strands will have the same length."
   ]
  },
  {
   "cell_type": "code",
   "execution_count": 322,
   "metadata": {},
   "outputs": [],
   "source": [
    "def hamdis(dna1, dna2):\n",
    "    distance_count = 0\n",
    "    l = len(dna1)\n",
    "    for d in range(l):\n",
    "        if dna1[d] != dna2[d]:\n",
    "            distance_count += 1\n",
    "    return distance_count"
   ]
  },
  {
   "cell_type": "code",
   "execution_count": 326,
   "metadata": {},
   "outputs": [
    {
     "data": {
      "text/plain": [
       "3"
      ]
     },
     "execution_count": 326,
     "metadata": {},
     "output_type": "execute_result"
    }
   ],
   "source": [
    "hamdis('sata','attd') "
   ]
  },
  {
   "cell_type": "markdown",
   "metadata": {},
   "source": [
    "## Lesson Summary\n",
    "---\n",
    "\n",
    "Let's review what we learned today. We: \n",
    "\n",
    "- Defined functions to encapsulate blocks of code.\n",
    "- Used parameters in a function.\n",
    "- Understood how to return a value from a function.\n",
    "- Created functions that include loops and conditional logic to generate specific return values.\n",
    "- Used Python scripts to automate tasks.\n",
    "- Created Python scripts to read and write to files.\n"
   ]
  }
 ],
 "metadata": {
  "kernelspec": {
   "display_name": "Python 3 (ipykernel)",
   "language": "python",
   "name": "python3"
  },
  "language_info": {
   "codemirror_mode": {
    "name": "ipython",
    "version": 3
   },
   "file_extension": ".py",
   "mimetype": "text/x-python",
   "name": "python",
   "nbconvert_exporter": "python",
   "pygments_lexer": "ipython3",
   "version": "3.10.9"
  }
 },
 "nbformat": 4,
 "nbformat_minor": 4
}
