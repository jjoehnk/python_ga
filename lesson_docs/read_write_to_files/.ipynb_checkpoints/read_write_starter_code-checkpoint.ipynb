{
 "cells": [
  {
   "cell_type": "markdown",
   "metadata": {},
   "source": [
    "<img src=\"http://imgur.com/1ZcRyrc.png\" style=\"float: left; margin: 20px; height: 55px\">\n",
    "\n",
    "# Reading and writing to files\n",
    "---"
   ]
  },
  {
   "cell_type": "markdown",
   "metadata": {},
   "source": [
    "\n",
    "\n",
    "\n",
    "### Lesson objectives\n",
    "\n",
    "By the end of this lesson, you should be able to:\n",
    "\n",
    "1. Use input from users in your code\n",
    "2. Create Python scripts to read and write to files\n",
    "3. Use import statements to access Python libraries\n",
    "4. Use documentation to utilize module functions\n",
    "\n",
    "\n",
    "## Intro\n",
    "\n",
    "---\n",
    "\n",
    "From what we've covered so far this week, remember that functions:\n",
    "- start with `def`, followed by the name of the function.\n",
    "- take inputs (or arguments).\n",
    "- return outputs.\n",
    "- use `return` to give the user new values.\n",
    "- are used frequently to make coding more efficient.\n",
    "\n",
    "The general **function syntax** is:\n",
    "![](./imgs/python-functions.png)  \n",
    "Taken from [Learn by Example - Python Functions](https://www.learnbyexample.org/python-functions/). \n"
   ]
  },
  {
   "cell_type": "markdown",
   "metadata": {},
   "source": [
    "## Putting it all together\n",
    "---\n",
    "\n",
    "Armed with the foundational building blocks of Python - \n",
    "\n",
    "- data types: floats, integers, strings, and booleans\n",
    "- data structures: lists, dictionaries, sets, and tuples\n",
    "- control flow: if statements and conditionals, for loops, and while loops\n",
    "- functions: passing arguments through code to return some value\n",
    "\n",
    "we can start creating genuinely useful scripts to automate specific tasks, like:\n",
    "\n",
    "- Reading and writing txt and csv files\n",
    "- Analyzing data stored in files\n",
    "- Accepting user input to control scripts"
   ]
  },
  {
   "cell_type": "markdown",
   "metadata": {},
   "source": [
    "## What's a Script?\n",
    "\n",
    "---\n",
    "\n",
    "One of the strongest use cases for Python is writing helpful scripts to automate work tasks or create helpful tools for yourself. Scripting will open up our ability to interact with files and provide meaningful input to our Python code; in other words, to start building useful things!\n",
    "\n",
    "\n",
    "When people refer to scripts, they usually mean code that:\n",
    "- Takes input that is subject to change\n",
    "- Gives output based on the process that's been coded\n",
    "- Reads existing files and/or writes to a file\n",
    "- Performs a task or a series of tasks in succession\n",
    "\n",
    "We have “performs a task” down! Let’s look at how we can build useful tools in Python by combining these other layers in our programs."
   ]
  },
  {
   "cell_type": "markdown",
   "metadata": {},
   "source": [
    "## User input and file input\n",
    "\n",
    "---\n",
    "\n",
    "Scripts can accept multiple different kinds of inputs. In some cases, you may want to pass a file to a script in order to analyze the contents. In other cases, you might want to build a script that takes instructions directly from a user. Python allows users to provide custom input to control what a script may be doing under the hood.\n",
    "\n",
    "**Example:** Imagine you're building a script to report the weather in major cities across the globe. The scripts you write could make use of both user input and file input:\n",
    "\n",
    "**User input:** your script might prompt the user with a question such as, \"What city would you like to see the weather for?\" The user could then enter the name of a specific city they're interested in. This allows the user to update their input dynamically as needed. \n",
    "\n",
    "**File input:** your script will need to get the weather data from somewhere! You could write it to pull a data file directly from a weather database and use that file as input in the functions you've built to analyze the data and build a report."
   ]
  },
  {
   "cell_type": "markdown",
   "metadata": {},
   "source": [
    " ### Accepting input from the user"
   ]
  },
  {
   "cell_type": "markdown",
   "metadata": {},
   "source": [
    "The function `input()` is built into Python and will prompt users to type in a response, then process that response as a variable. This functions accepts a string that will be output to the user - this is a great place to tell the user what type of information you want them to input!"
   ]
  },
  {
   "cell_type": "code",
   "execution_count": 6,
   "metadata": {},
   "outputs": [
    {
     "name": "stdin",
     "output_type": "stream",
     "text": [
      "What is your name?  Jonas\n"
     ]
    },
    {
     "name": "stdout",
     "output_type": "stream",
     "text": [
      "Hello, Jonas!\n"
     ]
    }
   ],
   "source": [
    "# Use input() to prompt the user for their name\n",
    "# Include a descriptive message when you prompt them! \n",
    "# Save the input as a variable called name\n",
    "\n",
    "name = input('What is your name? ')\n",
    "# The script pauses until the user enters some input\n",
    "\n",
    "# We can use this variable freely in the rest of our script \n",
    "print(f'Hello, {name}!')"
   ]
  },
  {
   "cell_type": "markdown",
   "metadata": {},
   "source": [
    "### Opening files in Python\n",
    "\n",
    "Opening files can be done with another built-in function called `open()`. This will access the contents of a specific file from within a Python script. \n",
    "\n",
    "There are a few different \"modes\" that can be used when opening files with this function. We can control which mode we're in by passing an abbreviation to the `open()` function: \n",
    "\n",
    "|Abbreviation| Mode                                            |\n",
    "|------------|-------------------------------------------------|\n",
    "| 'r'        | Read-only mode                                  |\n",
    "| 'w'        | Write mode                                      |\n",
    "| 'a'        | Append new contents to the end of the file      |\n",
    "| '+'        | Add to any other mode to include read and write |"
   ]
  },
  {
   "cell_type": "markdown",
   "metadata": {},
   "source": [
    "When accessing files, you should always **specify the mode** in which the file should be opened. Here's an example of how this might look:\n",
    "\n",
    "```python\n",
    "log = open(\"file.txt\", \"w\")\n",
    "```"
   ]
  },
  {
   "cell_type": "markdown",
   "metadata": {},
   "source": [
    "You must also be sure to **close the file** after working with it. Use the following pattern to let Python do that for you automatically:\n",
    "\n",
    "```python\n",
    "with open(\"file.txt\", \"a\") as log:\n",
    "    log.write(\"All clear.\")\n",
    "```"
   ]
  },
  {
   "cell_type": "markdown",
   "metadata": {},
   "source": [
    "When we want to open a file in Python, we have to tell it what the file is named. In the examples above, our file was named `file.txt.`. Note that we had to **include the `.txt` extension** - this is important information for Python to have and should always be included! \n",
    "\n",
    "Another thing to note is that we passed the file name as a string. Python always expects file names to have the string datatype, so make sure you're using your quote marks! "
   ]
  },
  {
   "cell_type": "markdown",
   "metadata": {},
   "source": [
    "Let's try an example. Open the file named `to_do_list.txt`. In order to read the lines stored in our `.txt` file, we can use a method called `readlines()`:"
   ]
  },
  {
   "cell_type": "code",
   "execution_count": 2,
   "metadata": {},
   "outputs": [
    {
     "name": "stdout",
     "output_type": "stream",
     "text": [
      "Go to the store\n",
      "\n",
      "Buy milk, eggs, bread \n",
      "\n",
      "Go to the plant shop \n",
      "\n",
      "Buy a new houseplant\n",
      "\n",
      "Grab a coffee\n",
      "\n",
      "Grab a coffee\n",
      "\n",
      "Grab a coffee\n",
      "\n",
      "Grab a coffee\n",
      "\n",
      "Grab a coffee\n",
      "\n",
      "Grab a coffee\n",
      "\n",
      "Grab a coffee\n",
      "\n",
      "Grab a coffee\n",
      "\n",
      "Grab a coffee\n",
      "\n",
      "Grab a coffee\n",
      "\n",
      "Grab a coffee\n",
      "\n",
      "Grab a coffee\n",
      "\n"
     ]
    }
   ],
   "source": [
    "# Open the file \n",
    "with open('to_do_list.txt', 'r') as file:\n",
    "    # Save the lines in the file as a variable\n",
    "    lines = file.readlines()\n",
    "    # Loop through the lines and print them out \n",
    "    for line in lines:\n",
    "        print(line)"
   ]
  },
  {
   "cell_type": "markdown",
   "metadata": {},
   "source": [
    "\n",
    "\n",
    "Once the cell above has executed, Python automatically closed our file thanks to the `open()` function's built-in methods. In order to keep using the information stored in the file once the file is closed, we had to save the lines in the file to a variable (in this case, we called it `lines`). \n",
    "\n",
    "See what this looks like when we print it out:"
   ]
  },
  {
   "cell_type": "code",
   "execution_count": 3,
   "metadata": {},
   "outputs": [
    {
     "data": {
      "text/plain": [
       "['Go to the store\\n',\n",
       " 'Buy milk, eggs, bread \\n',\n",
       " 'Go to the plant shop \\n',\n",
       " 'Buy a new houseplant\\n',\n",
       " 'Grab a coffee\\n',\n",
       " 'Grab a coffee\\n',\n",
       " 'Grab a coffee\\n',\n",
       " 'Grab a coffee\\n',\n",
       " 'Grab a coffee\\n',\n",
       " 'Grab a coffee\\n',\n",
       " 'Grab a coffee\\n',\n",
       " 'Grab a coffee\\n',\n",
       " 'Grab a coffee\\n',\n",
       " 'Grab a coffee\\n',\n",
       " 'Grab a coffee\\n',\n",
       " 'Grab a coffee\\n']"
      ]
     },
     "execution_count": 3,
     "metadata": {},
     "output_type": "execute_result"
    }
   ],
   "source": [
    "lines"
   ]
  },
  {
   "cell_type": "markdown",
   "metadata": {},
   "source": [
    "Notice the '\\n' included at the end of each item! These are *new line indicators* - if you open the `.txt` file (you can do this by double clicking the file name in the lefthand browser directly in Jupyter Lab), you'll see no '\\n' in the file. That's because this character is hidden and only included in the under-the-hood formatting of our text file. \n",
    "\n",
    "These will show up again, so it's best to be familiar with ways to strip them from our data once we've loaded it into Python! Strings have a built-in function called `.strip()` which will remove leading and trailing whitespaces, including '\\n' (it will instead remove a specified character if you pass an argument into it!)."
   ]
  },
  {
   "cell_type": "code",
   "execution_count": 4,
   "metadata": {},
   "outputs": [
    {
     "name": "stdout",
     "output_type": "stream",
     "text": [
      "Go to the store\n",
      "Buy milk, eggs, bread\n",
      "Go to the plant shop\n",
      "Buy a new houseplant\n",
      "Grab a coffee\n",
      "Grab a coffee\n",
      "Grab a coffee\n",
      "Grab a coffee\n",
      "Grab a coffee\n",
      "Grab a coffee\n",
      "Grab a coffee\n",
      "Grab a coffee\n",
      "Grab a coffee\n",
      "Grab a coffee\n",
      "Grab a coffee\n",
      "Grab a coffee\n"
     ]
    }
   ],
   "source": [
    "for item in lines:\n",
    "    print(item.strip())"
   ]
  },
  {
   "cell_type": "markdown",
   "metadata": {},
   "source": [
    "Clean our text data by stripping the new line characters and saving over each item with the clean version:"
   ]
  },
  {
   "cell_type": "code",
   "execution_count": 5,
   "metadata": {},
   "outputs": [
    {
     "data": {
      "text/plain": [
       "['Go to the store',\n",
       " 'Buy milk, eggs, bread',\n",
       " 'Go to the plant shop',\n",
       " 'Buy a new houseplant',\n",
       " 'Grab a coffee',\n",
       " 'Grab a coffee',\n",
       " 'Grab a coffee',\n",
       " 'Grab a coffee',\n",
       " 'Grab a coffee',\n",
       " 'Grab a coffee',\n",
       " 'Grab a coffee',\n",
       " 'Grab a coffee',\n",
       " 'Grab a coffee',\n",
       " 'Grab a coffee',\n",
       " 'Grab a coffee',\n",
       " 'Grab a coffee']"
      ]
     },
     "execution_count": 5,
     "metadata": {},
     "output_type": "execute_result"
    }
   ],
   "source": [
    "# iterate through. address every list[0] = mutated list [0]\n",
    "\n",
    "for i in range(len(lines)):\n",
    "    lines[i] = lines[i].strip()\n",
    "    \n",
    "lines "
   ]
  },
  {
   "cell_type": "markdown",
   "metadata": {},
   "source": [
    "In order to write a new line in our file, you have to open it in modes \"w\" (write) or \"a\" (append): "
   ]
  },
  {
   "cell_type": "code",
   "execution_count": null,
   "metadata": {},
   "outputs": [],
   "source": []
  },
  {
   "cell_type": "code",
   "execution_count": 7,
   "metadata": {},
   "outputs": [
    {
     "name": "stdout",
     "output_type": "stream",
     "text": [
      "Go to the store\n",
      "Buy milk, eggs, bread\n",
      "Go to the plant shop\n",
      "Buy a new houseplant\n",
      "Grab a coffee\n",
      "Grab a coffee\n",
      "Grab a coffee\n",
      "Grab a coffee\n",
      "Grab a coffee\n",
      "Grab a coffee\n",
      "Grab a coffee\n",
      "Grab a coffee\n",
      "Grab a coffee\n",
      "Grab a coffee\n",
      "Grab a coffee\n",
      "Grab a coffee\n"
     ]
    }
   ],
   "source": [
    "# Open the file \n",
    "with open('to_do_list.txt', 'a+') as file:\n",
    "    # Write a new line with a new to-do item:\n",
    "    file.write('Grab a coffee\\n')\n",
    "    \n",
    "# Open the file again in read mode\n",
    "with open('to_do_list.txt', 'r')  as file:\n",
    "    # print each line to see your addition show up! \n",
    "    line = file.readlines()\n",
    "    for line in lines:\n",
    "        print(line)"
   ]
  },
  {
   "cell_type": "markdown",
   "metadata": {},
   "source": [
    "## Activity 3.3 So Much To Do\n",
    "\n",
    "---\n",
    "\n",
    "Reading code can be just as important as writing code! Now that we know how to use the `open()` and `input()` functions, let's try and decipher the following code:\n",
    "\n",
    "Add a comment to each line of this python script, attempting to explain what it does"
   ]
  },
  {
   "cell_type": "code",
   "execution_count": null,
   "metadata": {
    "id": "ZkE-D3m5SO0w"
   },
   "outputs": [],
   "source": [
    "with open(\"to_do_list.txt\", \"a+\") as file: #opens the to_do_list.txt file under append mode (which also allows for other permissions like read/write) and gives this file the alias 'file'\n",
    "    print(\"Welcome to ToDoVille!\") #prints the string phrase listed\n",
    "    lines = file.readlines() #returns list of all lines in a file\n",
    "        \n",
    "    current_command = \"\" #creates a new variable assigned to a string containing nothing\n",
    "    while(current_command != \"q\"): #starts a while loop, with a does not equal string 'q' condition to continue/break the loop\n",
    "        current_command = input(\"Awaiting further commands. [q] to quit, [a] to add new item, [p] to print list: \") #creates a user input line specifying commands user can type\n",
    "        \n",
    "        if(current_command == \"a\"): #tells the computer to execute the below if the user types 'a'\n",
    "            new_item = input(\"Type your todo below: \") #creates input for user to add item to their to do list\n",
    "            file.write(new_item + \"\\n\") #takes the user input and writes their item into the file, along with a line break\n",
    "            \n",
    "        elif(current_command == \"p\"): #like above, but for user input 'p'\n",
    "            file.seek(0) #tells the computer which line to head to, in this case the 'first' or 0 line position\n",
    "            lines = file.readlines() #returns list of all lines in a file (now updated based on any line updates that have been made)\n",
    "            \n",
    "            print(\"Here are your items:\") #prints the following string at the top \n",
    "            for line in lines: #for function to print lines in separate string format, instead of a list\n",
    "                print(line) #prints line"
   ]
  },
  {
   "cell_type": "markdown",
   "metadata": {},
   "source": [
    "## Introduction to modules in Python\n",
    "\n",
    "---\n",
    "\n",
    "Modules are collections of helpful Python code and functions we can use. Instead of reinventing the wheel, modules provide us with immediate benefits:\n",
    "\n",
    "- Reliable, heavily tested code.\n",
    "- Well-known patterns for easy collaboration.\n",
    "- The ability to focus on your application’s higher-level needs. \n",
    "\n",
    "Throughout your career in data analysis and programming, you'll frequently use modules written by other developers just like you. They are free to use, and you can think of them as extensions of Python's functionality.\n",
    "\n",
    "The syntax for importing a module looks like this: \n",
    "\n",
    "```python\n",
    "import random\n",
    "```\n",
    "\n",
    "### Importing From the Standard Library\n",
    "\n",
    "Some modules are so commonly used that they are bundled with Python itself.\n",
    "\n",
    "To get a feel for modules, let’s explore the random module. In order to use a module, we first have to import it by including an import statement at the top of our code:"
   ]
  },
  {
   "cell_type": "code",
   "execution_count": null,
   "metadata": {},
   "outputs": [],
   "source": [
    "#data analyst party!!!!! \n",
    "\n",
    "import numpy as np\n",
    "import pandas as pd\n",
    "import matplotlib.pyplot as plt\n",
    "\n"
   ]
  },
  {
   "cell_type": "markdown",
   "metadata": {},
   "source": [
    "Importing this module gives us access to all of its methods. If you aren't sure what a function in a module does, you can find usually a description and examples of use cases in the module's documentation. \n",
    "\n",
    "Let's familiarize ourselves with documentation by checking the [documentation for the random library](https://docs.python.org/3/library/random.html). See if you can find out what the function `random.randint()` does."
   ]
  },
  {
   "cell_type": "markdown",
   "metadata": {},
   "source": [
    "To use a function in a module, call it by typing the module's name, followed by `.function_name()`."
   ]
  },
  {
   "cell_type": "code",
   "execution_count": 16,
   "metadata": {},
   "outputs": [
    {
     "data": {
      "text/plain": [
       "4"
      ]
     },
     "execution_count": 16,
     "metadata": {},
     "output_type": "execute_result"
    }
   ],
   "source": [
    "# Use the randint function to get a random die roll:\n",
    "import random as r\n",
    "\n",
    "roll = r.randint(1,6)\n",
    "\n",
    "roll"
   ]
  },
  {
   "cell_type": "markdown",
   "metadata": {},
   "source": [
    "The downside of borrowing someone else's code is having no idea how to use it — at first, that is!\n",
    "\n",
    "\n",
    "[Python’s Standard Documentation](https://docs.python.org/3/contents.html) provides a good place to begin reading up on the random module. Many other modules bundled into base python are also documented there, but some of the modules you'll use in your work will have different documentation sources - luckily, they're usually just one Google search away!"
   ]
  },
  {
   "cell_type": "markdown",
   "metadata": {},
   "source": [
    "We'll play around with the random module more next week. For now, let's get back to our main lesson - using files as input in scripts."
   ]
  },
  {
   "cell_type": "markdown",
   "metadata": {},
   "source": [
    "## Combining this to read `.csv` files\n",
    "\n",
    "---\n",
    "\n",
    "Managing files manually can get a bit awkward. Fortunately, there are plenty of modules out there to make things easier — especially for common file and data formats like `.csv`!\n",
    "\n",
    "\n",
    "Let’s explore a basic module called **csv** for just this purpose.\n",
    "\n",
    "First, take a few minutes to familiarize yourself with the [documentation for the csv library](https://docs.python.org/3/library/csv.html)."
   ]
  },
  {
   "cell_type": "markdown",
   "metadata": {},
   "source": [
    "Next, let's import the csv module:"
   ]
  },
  {
   "cell_type": "code",
   "execution_count": 17,
   "metadata": {},
   "outputs": [],
   "source": [
    "import csv "
   ]
  },
  {
   "cell_type": "markdown",
   "metadata": {},
   "source": [
    "To practice using the csv module, we've provided you with a **list of dictionaries** below. Remember that a list of dictionaries is a great way to store table-like information or datasets in simple structures in Python.\n",
    "\n",
    "Let's learn how to translate this list of dictionaries into a `.csv` file using the csv module."
   ]
  },
  {
   "cell_type": "code",
   "execution_count": 18,
   "metadata": {
    "id": "umdWYZjzSO0x"
   },
   "outputs": [],
   "source": [
    "# 3.4 Writing to CSV\n",
    "employees = [\n",
    "  {\n",
    "    \"first_name\": \"Hennah\", \n",
    "    \"last_name\": \"Chadwick\",\n",
    "    \"job_title\": \"Vice President\",\n",
    "    \"hire_date\": 1985,\n",
    "    \"performance_review\": \"excellent\"\n",
    "  }, {\n",
    "    \"first_name\": \"Michael\", \n",
    "    \"last_name\": \"Bolton\",\n",
    "    \"job_title\": \"Programmer\",\n",
    "    \"hire_date\": 1995,\n",
    "    \"performance_review\": \"poor\"\n",
    "  }, {\n",
    "    \"first_name\": \"Ellesse\", \n",
    "    \"last_name\": \"Jaramillo\",\n",
    "    \"job_title\": \"Programmer\",\n",
    "    \"hire_date\": 1989,\n",
    "    \"performance_review\": \"poor\"\n",
    "  }, {\n",
    "    \"first_name\": \"Samir\", \n",
    "    \"last_name\": \"Nagheenanajar\",\n",
    "    \"job_title\": \"Programmer\",\n",
    "    \"hire_date\": 1974,\n",
    "    \"performance_review\": \"fair\"\n",
    "  }, {\n",
    "    \"first_name\": \"Milton\", \n",
    "    \"last_name\": \"Waddams\",\n",
    "    \"job_title\": \"Collator\",\n",
    "    \"hire_date\": 1974,\n",
    "    \"performance_review\": \"does he even work here?\"\n",
    "  }, {\n",
    "    \"first_name\": \"Bob\", \n",
    "    \"last_name\": \"Porter\",\n",
    "    \"job_title\": \"Consultant\",\n",
    "    \"hire_date\": 1999,\n",
    "    \"performance_review\": \"excellent\"\n",
    "  }, {\n",
    "    \"first_name\": \"Bob\", \n",
    "    \"last_name\": \"Slydell\",\n",
    "    \"job_title\": \"Consultant\",\n",
    "    \"hire_date\": 1999,\n",
    "    \"performance_review\": \"excellent\"\n",
    "  }\n",
    "]\n"
   ]
  },
  {
   "cell_type": "markdown",
   "metadata": {},
   "source": [
    "There are a few steps here, so let's break this down. \n",
    "\n",
    "First, we're going to want to use the keys of this dictionary as the column names. Let's start with getting the list of what those column names will be: "
   ]
  },
  {
   "cell_type": "code",
   "execution_count": 19,
   "metadata": {},
   "outputs": [
    {
     "data": {
      "text/plain": [
       "{'first_name': 'Hennah',\n",
       " 'last_name': 'Chadwick',\n",
       " 'job_title': 'Vice President',\n",
       " 'hire_date': 1985,\n",
       " 'performance_review': 'excellent'}"
      ]
     },
     "execution_count": 19,
     "metadata": {},
     "output_type": "execute_result"
    }
   ],
   "source": [
    "# Get the dictionary:\n",
    "employees[0]"
   ]
  },
  {
   "cell_type": "code",
   "execution_count": 22,
   "metadata": {},
   "outputs": [
    {
     "data": {
      "text/plain": [
       "dict_keys(['first_name', 'last_name', 'job_title', 'hire_date', 'performance_review'])"
      ]
     },
     "execution_count": 22,
     "metadata": {},
     "output_type": "execute_result"
    }
   ],
   "source": [
    "# Get the dictionary keys:\n",
    "employees[0].keys()"
   ]
  },
  {
   "cell_type": "code",
   "execution_count": 23,
   "metadata": {},
   "outputs": [
    {
     "data": {
      "text/plain": [
       "['first_name', 'last_name', 'job_title', 'hire_date', 'performance_review']"
      ]
     },
     "execution_count": 23,
     "metadata": {},
     "output_type": "execute_result"
    }
   ],
   "source": [
    "# Convert the dictionary keys into a list:\n",
    "list(employees[0].keys())"
   ]
  },
  {
   "cell_type": "code",
   "execution_count": 24,
   "metadata": {},
   "outputs": [
    {
     "name": "stdout",
     "output_type": "stream",
     "text": [
      "first_name\n",
      "last_name\n",
      "job_title\n",
      "hire_date\n",
      "performance_review\n"
     ]
    }
   ],
   "source": [
    "for element in list(employees[0].items()):\n",
    "    print(element[0])"
   ]
  },
  {
   "cell_type": "markdown",
   "metadata": {},
   "source": [
    "Great! We can use the above as our headers names.\n",
    "\n",
    "Next, open the [documentation for csv](https://docs.python.org/3/library/csv.html) and read the description for the function `csv.DictWriter()`. A short example is included there that we can model our code after. You can copy the example into your notebook if it helps to have it visible while you're working! "
   ]
  },
  {
   "cell_type": "markdown",
   "metadata": {},
   "source": [
    "```python\n",
    "import csv\n",
    "\n",
    "with open('names.csv', 'w', newline='') as csvfile:\n",
    "    fieldnames = ['first_name', 'last_name']\n",
    "    writer = csv.DictWriter(csvfile, fieldnames=fieldnames)\n",
    "\n",
    "    writer.writeheader()\n",
    "    writer.writerow({'first_name': 'Baked', 'last_name': 'Beans'})\n",
    "    writer.writerow({'first_name': 'Lovely', 'last_name': 'Spam'})\n",
    "    writer.writerow({'first_name': 'Wonderful', 'last_name': 'Spam'})\n",
    "```"
   ]
  },
  {
   "cell_type": "markdown",
   "metadata": {},
   "source": [
    "Finally, let's write the list of employee dictionaries to a new `.csv` file titled `all_evaluations.csv`. To create the new file, we can pass this file name into the `open()` function directly. Remember to use the \"write\" mode!\n",
    "\n",
    "In addition to writing this dictionary to a file, we also want to add a column named \"action_item\" with the following logic:\n",
    "- If the performance_review is \"poor\" the action_item should be \"terminate\"\n",
    "- If the performance_review is \"excellent\" the action_item should be \"bonus\"\n",
    "- Otherwise, the action_item should be \"attend GA workshop\""
   ]
  },
  {
   "cell_type": "code",
   "execution_count": 27,
   "metadata": {},
   "outputs": [],
   "source": [
    "with open(\"all_evaluations.csv\", \"w\") as file:\n",
    "    # Create a fieldnames list that will act as column headers using our dictionary keys \n",
    "    fieldnames = list(employees[0].keys())\n",
    "    # Append the \"action_item\" column to the end of our fieldnames\n",
    "    fieldnames.append('action_item')\n",
    "    # Pass the file name and fieldnames list to the DictWriter function \n",
    "    writer = csv.DictWriter(file, fieldnames=fieldnames)\n",
    "    # Pass the file name and fieldnames list to the DictWriter function \n",
    "    writer.writeheader()\n",
    "    # Loop through each employee and determine what to put in their action_item column\n",
    "    for employee in employees:\n",
    "        # At the end of the loop, add the action item -- purely manip with dictionary\n",
    "        row = employee\n",
    "        if employee['performance_review'] == 'poor':\n",
    "            row['action_item'] = 'terminate'\n",
    "        elif employee['performance_review'] == 'excellent':\n",
    "            row['action_item'] = 'bonus'\n",
    "        else:\n",
    "            row['action_item'] = 'attend GA workshop and be gifted 1000 red staplers'\n",
    "        #write all rows\n",
    "        writer.writerow(row)"
   ]
  },
  {
   "cell_type": "code",
   "execution_count": null,
   "metadata": {},
   "outputs": [],
   "source": [
    "with open(\"all_evaluations.csv\", \"w\") as file:\n"
   ]
  },
  {
   "cell_type": "markdown",
   "metadata": {},
   "source": [
    "Great work! You should see your file appear in the file browser to the left. You can double click to open it and see our work saved!\n",
    "\n",
    "Next, we want to reward the employees who had excellent performance reviews. Let's create a new file named `bonus_list.csv` that contains the names of employees with \"excellent\" reviews that we want to give bonuses to this quarter."
   ]
  },
  {
   "cell_type": "code",
   "execution_count": 29,
   "metadata": {},
   "outputs": [
    {
     "name": "stdout",
     "output_type": "stream",
     "text": [
      "Hennah Chadwick Vice President\n",
      "Michael Bolton Programmer\n",
      "Ellesse Jaramillo Programmer\n",
      "Samir Nagheenanajar Programmer\n",
      "Milton Waddams Collator\n",
      "Bob Porter Consultant\n",
      "Bob Slydell Consultant\n"
     ]
    }
   ],
   "source": [
    "with open('all_evaluations.csv', 'r') as file:    \n",
    "    rows = csv.DictReader(file)\n",
    "    \n",
    "    for row in rows: \n",
    "        print(row['first_name'], row['last_name'], row['job_title'])"
   ]
  },
  {
   "cell_type": "markdown",
   "metadata": {},
   "source": [
    "```python\n",
    "# Open a new file named bonus_list.csv \n",
    "# Be sure to use the \"write\" mode!\n",
    "\n",
    "    # Remember, to use the DictWriter function we need a list of column headers\n",
    "    # Use the keys in the employees dictionaries \n",
    "    \n",
    "    # Call the DictWriter function\n",
    "    \n",
    "    # Loop through each employee and check whether their performance review is \"excellent\"\n",
    "            \n",
    "        # If it is excellent, write their name to the bonus_list file\n",
    "```"
   ]
  },
  {
   "cell_type": "code",
   "execution_count": 30,
   "metadata": {},
   "outputs": [
    {
     "data": {
      "text/plain": [
       "dict_keys(['first_name', 'last_name', 'job_title', 'hire_date', 'performance_review', 'action_item'])"
      ]
     },
     "execution_count": 30,
     "metadata": {},
     "output_type": "execute_result"
    }
   ],
   "source": [
    "employees[0].keys()"
   ]
  },
  {
   "cell_type": "code",
   "execution_count": 32,
   "metadata": {},
   "outputs": [],
   "source": [
    "with open('bonus_list.csv', 'w') as file:\n",
    "    fieldnames = list(employees[0].keys())\n",
    "    writer = csv.DictWriter(file, fieldnames)\n",
    "    writer.writeheader()\n",
    "    for employee in employees:\n",
    "        if employee['performance_review'] == 'excellent':\n",
    "            writer.writerow(employee)\n"
   ]
  },
  {
   "cell_type": "markdown",
   "metadata": {},
   "source": [
    "If you did this right, you should see a new file called `bonus_list.csv` in your file browser. Open it up to see who it includes. "
   ]
  },
  {
   "cell_type": "markdown",
   "metadata": {},
   "source": [
    "Next week, we'll get started using a powerful data analysis library called pandas. It's one of the most commonly used libraries for working with `.csv` files and will allow you to work with and visualize datasets in Python with ease. "
   ]
  }
 ],
 "metadata": {
  "kernelspec": {
   "display_name": "Python 3 (ipykernel)",
   "language": "python",
   "name": "python3"
  },
  "language_info": {
   "codemirror_mode": {
    "name": "ipython",
    "version": 3
   },
   "file_extension": ".py",
   "mimetype": "text/x-python",
   "name": "python",
   "nbconvert_exporter": "python",
   "pygments_lexer": "ipython3",
   "version": "3.10.9"
  }
 },
 "nbformat": 4,
 "nbformat_minor": 4
}
