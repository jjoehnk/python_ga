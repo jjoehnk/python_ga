{
 "cells": [
  {
   "cell_type": "code",
   "execution_count": null,
   "id": "24a017e0-b7f9-4d52-b2f6-e6113300e65a",
   "metadata": {},
   "outputs": [],
   "source": [
    "inp = input('what is up my man, time to crunch some numbers')\n",
    "print('you entered:',inp)"
   ]
  },
  {
   "cell_type": "code",
   "execution_count": null,
   "id": "708b31a5-6c17-410f-af0a-667af6183002",
   "metadata": {},
   "outputs": [],
   "source": [
    "number1 = float(input('enter a number bro: '))\n",
    "op = input('enter that operator brah (+,-,*,/,^): ')\n",
    "number2 = float(input('give me that second number lad: '))\n",
    "print(number1,op,number2)"
   ]
  },
  {
   "cell_type": "code",
   "execution_count": null,
   "id": "9fd23a40-1834-4f25-8096-37030038a327",
   "metadata": {},
   "outputs": [],
   "source": [
    "def calculate(n1,n2,op):\n",
    "    if op == '+':\n",
    "        result = n1+n2\n",
    "    elif op == '-':\n",
    "        result = n1-n2\n",
    "    elif op == '*':\n",
    "        result = n1*n2\n",
    "    elif op == '/':\n",
    "        result = n1/n2\n",
    "    elif op == '^':\n",
    "        result = n1**n2\n",
    "        \n",
    "    return result\n",
    "\n",
    "\n",
    "\n",
    "number1 = float(input('enter a number bro: '))\n",
    "op = input('enter that operator brah (+,-,*,/,^): ')\n",
    "number2 = float(input('give me that second number lad: '))\n",
    "print(number1,op,number2)\n",
    "result = calculate(number1,number2,op)\n",
    "print('=',result)"
   ]
  },
  {
   "cell_type": "code",
   "execution_count": null,
   "id": "9548fb17-692d-4536-b7e6-cd49488d544f",
   "metadata": {},
   "outputs": [],
   "source": [
    "def calculate(n1,n2,op):\n",
    "    if op == '+':\n",
    "        result = n1+n2\n",
    "    elif op == '-':\n",
    "        result = n1-n2\n",
    "    elif op == '*':\n",
    "        result = n1*n2\n",
    "    elif op == '/':\n",
    "        result = n1/n2\n",
    "    elif op == '^':\n",
    "        result = n1**n2\n",
    "    else:\n",
    "        raise ValueError('you make no sense. give me a real operator')\n",
    "        \n",
    "    if result.is_integer():\n",
    "        result = int(result)\n",
    "        \n",
    "    return result\n",
    "\n",
    "\n",
    "continue_calculating = True\n",
    "while continue_calculating is True:\n",
    "    number1 = float(input('enter a number bro: '))\n",
    "    op = input('enter that operator brah (+,-,*,/,^): ')\n",
    "    number2 = float(input('give me that second number lad: '))\n",
    "    print(number1,op,number2)\n",
    "    result = calculate(number1,number2,op)\n",
    "    print('=',result)\n",
    "    yes_or_no = input('Want to feed me more numbers? (y/n): ')\n",
    "    if yes_or_no == 'n':\n",
    "            continue_calculationg = False"
   ]
  },
  {
   "cell_type": "code",
   "execution_count": null,
   "id": "9d435138-3239-44cf-acd2-66c64ed34b7b",
   "metadata": {},
   "outputs": [],
   "source": [
    "def calculate(n1,n2,op):\n",
    "    if op == '+':\n",
    "        result = n1+n2\n",
    "    elif op == '-':\n",
    "        result = n1-n2\n",
    "    elif op == '*':\n",
    "        result = n1*n2\n",
    "    elif op == '/':\n",
    "        result = n1/n2\n",
    "    elif op == '^':\n",
    "        result = n1**n2\n",
    "    else:\n",
    "        raise ValueError('you make no sense. give me a real operator')\n",
    "        \n",
    "    if result.is_integer():\n",
    "        result = int(result)\n",
    "        \n",
    "    return result\n",
    "\n",
    "\n",
    "continue_calculating = True\n",
    "while continue_calculating is True:\n",
    "    number1 = float(input('enter a number bro: '))\n",
    "    op = input('enter that operator brah (+,-,*,/,^): ')\n",
    "    number2 = float(input('give me that second number lad: '))\n",
    "    print(number1,op,number2)\n",
    "    result = calculate(number1,number2,op)\n",
    "    print('=',result)\n",
    "    yes_or_no = input('Want to feed me more numbers? (y/n): ')\n",
    "    if yes_or_no == 'n':\n",
    "            continue_calculationg = False"
   ]
  },
  {
   "cell_type": "code",
   "execution_count": null,
   "id": "345eeedc-374b-465b-92bd-28be9e185ad0",
   "metadata": {},
   "outputs": [],
   "source": []
  }
 ],
 "metadata": {
  "kernelspec": {
   "display_name": "Python 3 (ipykernel)",
   "language": "python",
   "name": "python3"
  },
  "language_info": {
   "codemirror_mode": {
    "name": "ipython",
    "version": 3
   },
   "file_extension": ".py",
   "mimetype": "text/x-python",
   "name": "python",
   "nbconvert_exporter": "python",
   "pygments_lexer": "ipython3",
   "version": "3.10.9"
  }
 },
 "nbformat": 4,
 "nbformat_minor": 5
}
