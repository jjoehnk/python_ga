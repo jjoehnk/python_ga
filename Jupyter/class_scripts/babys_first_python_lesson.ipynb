{
 "cells": [
  {
   "cell_type": "markdown",
   "id": "95c982e1-db19-41ee-86e2-fe8d555eaf10",
   "metadata": {},
   "source": [
    "# Python Lesson 1! Look at us go!"
   ]
  },
  {
   "cell_type": "markdown",
   "id": "f8b95bdb-a41f-4904-b71d-80d09a1da266",
   "metadata": {
    "jp-MarkdownHeadingCollapsed": true,
    "tags": []
   },
   "source": [
    "## My First Markdown Cell\n",
    "#### *Made by Jonas Joehnk*\n",
    "1. python is life\n",
    "2. notes are life\n",
    "3. markdown is life"
   ]
  },
  {
   "cell_type": "markdown",
   "id": "8b7adb27-166e-4f5a-aca6-d8e267408096",
   "metadata": {},
   "source": [
    "#### Look at some code I can do \n",
    "\n",
    "\n",
    "`print('hello world!!!')`"
   ]
  },
  {
   "cell_type": "markdown",
   "id": "4785081f-259f-4d40-a7c7-9635e906b846",
   "metadata": {},
   "source": [
    "#### Dictionary of Shortcuts\n",
    "\n",
    "1. m == markdown\n",
    "2. y == code\n",
    "3. r == raw"
   ]
  },
  {
   "cell_type": "code",
   "execution_count": null,
   "id": "63a83803-a0d5-4f84-9f6a-a251f4281579",
   "metadata": {},
   "outputs": [],
   "source": [
    "print('hello world!!!')"
   ]
  },
  {
   "cell_type": "markdown",
   "id": "e45f3f27-50f8-40f1-999f-4e43e5c8258c",
   "metadata": {},
   "source": [
    "= does not equal 'equal' --> it now equals 'assign' and == equals equal"
   ]
  }
 ],
 "metadata": {
  "kernelspec": {
   "display_name": "Python 3 (ipykernel)",
   "language": "python",
   "name": "python3"
  },
  "language_info": {
   "codemirror_mode": {
    "name": "ipython",
    "version": 3
   },
   "file_extension": ".py",
   "mimetype": "text/x-python",
   "name": "python",
   "nbconvert_exporter": "python",
   "pygments_lexer": "ipython3",
   "version": "3.10.9"
  }
 },
 "nbformat": 4,
 "nbformat_minor": 5
}
