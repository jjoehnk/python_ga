{
 "cells": [
  {
   "cell_type": "code",
   "execution_count": 1,
   "id": "5605ccee-4cd7-4847-bb0d-61466a69ffc6",
   "metadata": {},
   "outputs": [
    {
     "name": "stdin",
     "output_type": "stream",
     "text": [
      "enter a number bro:  1\n",
      "enter that operator brah (+,-,*,/,^):  +\n",
      "give me that second number lad:  1\n"
     ]
    },
    {
     "name": "stdout",
     "output_type": "stream",
     "text": [
      "1.0 + 1.0\n",
      "= 2\n"
     ]
    },
    {
     "name": "stdin",
     "output_type": "stream",
     "text": [
      "Want to feed me more numbers? (y/n):  n\n"
     ]
    }
   ],
   "source": [
    "def calculate(n1,n2,op):\n",
    "    if op == '+':\n",
    "        result = n1+n2\n",
    "    elif op == '-':\n",
    "        result = n1-n2\n",
    "    elif op == '*':\n",
    "        result = n1*n2\n",
    "    elif op == '/':\n",
    "        result = n1/n2\n",
    "    elif op == '^':\n",
    "        result = n1**n2\n",
    "    else:\n",
    "        raise ValueError('you make no sense. give me a real operator')\n",
    "        \n",
    "    if result.is_integer():\n",
    "        result = int(result)\n",
    "        \n",
    "    return result\n",
    "\n",
    "\n",
    "continue_calculating = True\n",
    "while continue_calculating is True:\n",
    "    number1 = float(input('enter a number bro: '))\n",
    "    op = input('enter that operator brah (+,-,*,/,^): ')\n",
    "    number2 = float(input('give me that second number lad: '))\n",
    "    print(number1,op,number2)\n",
    "    result = calculate(number1,number2,op)\n",
    "    print('=',result)\n",
    "    yes_or_no = input('Want to feed me more numbers? (y/n): ')\n",
    "    if yes_or_no == 'n':\n",
    "            continue_calculating = False"
   ]
  },
  {
   "cell_type": "code",
   "execution_count": 2,
   "id": "e424f18f-7a68-4146-a2cd-edf92c16e5d2",
   "metadata": {},
   "outputs": [
    {
     "name": "stdout",
     "output_type": "stream",
     "text": [
      "hello world\n"
     ]
    }
   ],
   "source": [
    "print('hello world')"
   ]
  },
  {
   "cell_type": "code",
   "execution_count": 12,
   "id": "7ffec660-0a15-4e60-9498-b8e155f20581",
   "metadata": {},
   "outputs": [
    {
     "name": "stdin",
     "output_type": "stream",
     "text": [
      "gimme some math to do mate 1 + 2\n"
     ]
    },
    {
     "name": "stdout",
     "output_type": "stream",
     "text": [
      "1 + 2 = 3\n"
     ]
    }
   ],
   "source": [
    "import operator \n",
    "\n",
    "operations = {\n",
    "    \"+\": operator.add,\n",
    "    \"-\": operator.sub,\n",
    "    \"/\": operator.truediv,\n",
    "    \"*\": operator.mul,\n",
    "    }\n",
    "\n",
    "n1, op, n2 = input (\"gimme some math to do mate\").split()\n",
    "\n",
    "n1 = int(n1)\n",
    "n2 = int(n2)\n",
    "\n",
    "if op in operations:\n",
    "    operation = operations[op]\n",
    "    answer = operation(n1, n2)\n",
    "    print(f\"{n1} {op} {n2} = {answer}\")\n",
    "else: print(f\"Invalid Operator: {op}\")"
   ]
  },
  {
   "cell_type": "code",
   "execution_count": null,
   "id": "d70b7d04-f56f-4055-9f06-9f76d6fa759f",
   "metadata": {},
   "outputs": [],
   "source": []
  }
 ],
 "metadata": {
  "kernelspec": {
   "display_name": "Python 3 (ipykernel)",
   "language": "python",
   "name": "python3"
  },
  "language_info": {
   "codemirror_mode": {
    "name": "ipython",
    "version": 3
   },
   "file_extension": ".py",
   "mimetype": "text/x-python",
   "name": "python",
   "nbconvert_exporter": "python",
   "pygments_lexer": "ipython3",
   "version": "3.10.9"
  }
 },
 "nbformat": 4,
 "nbformat_minor": 5
}
