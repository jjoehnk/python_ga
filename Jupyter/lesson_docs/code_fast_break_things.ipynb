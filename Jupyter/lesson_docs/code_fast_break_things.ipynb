{
 "cells": [
  {
   "cell_type": "markdown",
   "metadata": {
    "id": "0cGesXeufC4O"
   },
   "source": [
    "## Code Fast and Break Things\n",
    "\n",
    "---\n",
    "\n",
    "Each of the following lines of code is mistaken in some way. Either they contain errors or don't do what the user would expect them to. Correct each example, and write a comment explaining what went wrong"
   ]
  },
  {
   "cell_type": "code",
   "execution_count": 3,
   "metadata": {
    "id": "GN9FnKQ1WDgk",
    "tags": []
   },
   "outputs": [
    {
     "name": "stdout",
     "output_type": "stream",
     "text": [
      "55\n"
     ]
    }
   ],
   "source": [
    "# A.\n",
    "my_variable = 55\n",
    "print(my_variable)\n",
    "#'my_variable' wasn't actually assigned to anything! If the user wanted to simply print the string 'my_variable' they would remove the first line. Otherwise, you need that assignment!"
   ]
  },
  {
   "cell_type": "code",
   "execution_count": 6,
   "metadata": {
    "id": "FiQqiPwnWDgk",
    "tags": []
   },
   "outputs": [
    {
     "name": "stdout",
     "output_type": "stream",
     "text": [
      "10\n"
     ]
    }
   ],
   "source": [
    "# B.\n",
    "# Why didn't it print ten?\n",
    "my_number = 5\n",
    "my_number += 5\n",
    "print(my_number)\n",
    "#USE += OR OTHER OP=!!!!!!"
   ]
  },
  {
   "cell_type": "code",
   "execution_count": 9,
   "metadata": {
    "id": "RNDAjxoMWDgl",
    "tags": []
   },
   "outputs": [
    {
     "name": "stdout",
     "output_type": "stream",
     "text": [
      "5 Hello\n"
     ]
    }
   ],
   "source": [
    "# C.\n",
    "my_num = 5\n",
    "my_string = \"Hello\"\n",
    "print(str(my_num) + \" \" + my_string)\n",
    "#The variables are of different types (int and str), so you need to reassign my number (either in the variable assignment or in the print statement depending on user needs). Also added a space for prettiness."
   ]
  },
  {
   "cell_type": "code",
   "execution_count": 11,
   "metadata": {
    "id": "0invT4TyWDgl",
    "tags": []
   },
   "outputs": [
    {
     "name": "stdout",
     "output_type": "stream",
     "text": [
      "30\n"
     ]
    }
   ],
   "source": [
    "# D.\n",
    "# The user expected the result to be 30!\n",
    "my_num1 = 10\n",
    "my_num2 = 20\n",
    "print(my_num1 + my_num2)\n",
    "# Strings concat like you smush them side by side, if you want the + operator to act like a math function, the numbers need to be ints or floats"
   ]
  },
  {
   "cell_type": "code",
   "execution_count": 13,
   "metadata": {
    "id": "ipVT9_6tWDgm",
    "tags": []
   },
   "outputs": [
    {
     "name": "stdout",
     "output_type": "stream",
     "text": [
      "I enjoy python in the morning\n"
     ]
    }
   ],
   "source": [
    "# E.\n",
    "# The user expected the message to read \"I enjoy python in the morning.\"\n",
    "language = \"python\"\n",
    "print(f\"I enjoy {language} in the morning\")\n",
    "# need to provide brackets around language so that the variable is called rather than the string of letters 'language'"
   ]
  },
  {
   "cell_type": "code",
   "execution_count": 16,
   "metadata": {
    "id": "6wJqRJsLWDgm",
    "tags": []
   },
   "outputs": [
    {
     "name": "stdout",
     "output_type": "stream",
     "text": [
      "There are 2 plums at home for me\n"
     ]
    }
   ],
   "source": [
    "# F.\n",
    "# The user expected the message to read \"There are 2 plums at home for me\"\n",
    "number_of_plums = 2\n",
    "who_plums_are_for = \"me\"\n",
    "print(\"There are \" + str(number_of_plums) + \" plums at home for \" + who_plums_are_for)\n",
    "# Two things - one the number_of_plums variable needs to be converted to a string either in variable or in the print function. Two - the who_plums_are_for needs to have either single or double brackets to be read as a string."
   ]
  },
  {
   "cell_type": "markdown",
   "metadata": {},
   "source": [
    "Debugging code and understanding error messages are as vital to know as being able to write the code in the first place! "
   ]
  }
 ],
 "metadata": {
  "kernelspec": {
   "display_name": "Python 3 (ipykernel)",
   "language": "python",
   "name": "python3"
  },
  "language_info": {
   "codemirror_mode": {
    "name": "ipython",
    "version": 3
   },
   "file_extension": ".py",
   "mimetype": "text/x-python",
   "name": "python",
   "nbconvert_exporter": "python",
   "pygments_lexer": "ipython3",
   "version": "3.11.4"
  }
 },
 "nbformat": 4,
 "nbformat_minor": 4
}
