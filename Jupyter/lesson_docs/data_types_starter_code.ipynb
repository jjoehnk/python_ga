{
 "cells": [
  {
   "cell_type": "markdown",
   "metadata": {
    "id": "Q34Ni7BYEP8_"
   },
   "source": [
    "<img src=\"http://imgur.com/1ZcRyrc.png\" style=\"float: left; margin: 20px; height: 55px\">\n",
    "\n",
    "# Introduction to Python: Part One\n",
    "\n",
    "_Authors: Kiefer Katovich (San Francisco), Dave Yerrington (San Francisco), Joseph Nelson (Washington, D.C.), Sam Stack (Washington, D.C.)_\n",
    "\n",
    "---"
   ]
  },
  {
   "cell_type": "markdown",
   "metadata": {
    "id": "Esv3O5wOEP9D"
   },
   "source": [
    "\n",
    "### Learning Objectives\n",
    "\n",
    "#### Part 1: Python Data Types\n",
    "**After this lesson, you will be able to:**\n",
    "- Discuss Python as a programming language.\n",
    "- Define integers, strings, tuples, lists, and dictionaries.\n",
    "- Demonstrate arithmetic operations and string operations.\n",
    "- Demonstrate variable assignment."
   ]
  },
  {
   "cell_type": "markdown",
   "metadata": {
    "id": "a00c9s9zEP9D"
   },
   "source": [
    "### Lesson Guide\n",
    "\n",
    "#### [Part 1: Python Data Types](#why_py)\n",
    "- [Why Python?](#why_py)\n",
    "- [Introduction to Data Types](#intro)\n",
    "- [Jupyter Notebook](#jupyter_nb)\n",
    "- [Python Variables](#variables)\n",
    "- [Operators](#operators)\n",
    "- [Integers and Floats](#numbers)\n",
    "- [Strings](#strings)\n",
    "-[String Indexing](#slicing)\n",
    "- [Printing Strings](#print)\n",
    "- [Lists](#lists)\n",
    "- [Tuples](#tuples)\n",
    "- [Sets](#sets)\n",
    "- [Dictionaries](#dictionary)\n",
    "- [Importing Packages and Documentation](#import)\n",
    "- [Practice With a Partner](#ind-practice)\n",
    "\n",
    "----"
   ]
  },
  {
   "cell_type": "markdown",
   "metadata": {
    "id": "9fYt_FXnEP9E"
   },
   "source": [
    "<a id='why_py'></a>\n",
    "\n",
    "## Why Python?\n",
    "\n",
    "Python was created by Guido van Rossum and released back in 1991. Since then, Python has greatly grown as a high-level, general-purpose programming language with a huge open-source community supporting it. The language was developed to emphasize readability of code (specifically, white-space use and syntax). \"The Zen of Python\" is a poem that explains the nature of the Python functionality:\n",
    "\n",
    "\n",
    "#### _The Zen of Python_  \n",
    "_Beautiful is better than ugly.  \n",
    "Explicit is better than implicit.  \n",
    "Simple is better than complex.  \n",
    "Complex is better than complicated.  \n",
    "Flat is better than nested.  \n",
    "Sparse is better than dense.  \n",
    "Readability counts.  \n",
    "Special cases aren't special enough to break the rules. Although practicality beats purity.   \n",
    "Errors should never pass silently.  \n",
    "Unless explicitly silenced.  \n",
    "In the face of ambiguity, refuse the temptation to guess.  \n",
    "There should be one — and preferably only one — obvious way to do it. Although that way may not be obvious at first unless you're Dutch.\n",
    "Now is better than never.  \n",
    "Although never is often better than right now.  \n",
    "If the implementation is hard to explain, it's a bad idea.  \n",
    "If the implementation is easy to explain, it may be a good idea.   \n",
    "Namespaces are one honking great idea — let's do more of those. _"
   ]
  },
  {
   "cell_type": "markdown",
   "metadata": {
    "id": "kDEFLqywEP9F"
   },
   "source": [
    "---\n",
    "\n",
    "## Why Use Python for Data Analysis?\n",
    "\n",
    "##### General Purpose, Open Source, and Readability\n",
    "\n",
    "These are some of the more prominent reasons Python has been so widely adopted for data analysis.\n",
    "\n",
    "**General purpose:** Python was not intended to just be used for software or website development. Instead, it comes with the basic building blocks you need to develop anything you want with it.\n",
    "\n",
    "**Open source:** Going back to the \"basic building blocks\" point — a large open-source community has already created hundreds of libraries containing combinations of the foundation blocks to create more specific tool sets. Here are a few examples:\n",
    "- Requests: Interacting with websites.\n",
    "- Django: Python web framework.\n",
    "- Pandas: Data analysts' best friend.\n",
    "- Pyglet: GUI application building.\n",
    "- TensorFlow: Google's machine learning library.\n",
    "\n",
    "\n",
    "**Readability:** They're called programming languages because learning them is similar to learning a written language, but instead of learning how to communicate with a person, you're learning how to communicate with a computer. When a foreign language is similar to your native language, it's much easier to pick up. The same can be said for Python, whose general flow makes it a lot easier for humans to read and interpret code.\n"
   ]
  },
  {
   "cell_type": "markdown",
   "metadata": {
    "id": "DGKixwebEP9F"
   },
   "source": [
    "---\n",
    "\n",
    "<a id='intro'></a>\n",
    "## Introduction: Python Data Types\n",
    "\n",
    "There are several _standard_ data types within Python, the six most common being:\n",
    "\n",
    "**Integers:** Whole numbers without decimal points from negative infinity to infinity, such as 1, 0, -5, etc.\n",
    "\n",
    "**Floats:** Short for \"floating point number,\" numbers including digits after decimals such as 2.8 or 3.14159.\n",
    "\n",
    "**Booleans:** A value that can be either true or false.\n",
    "\n",
    "**Strings:** A set of letters, numbers, or other characters, e.g., \"The fox is quick.\"\n",
    "\n",
    "**Lists:** An ordered sequence without a fixed number of elements, e.g., x = [1, 2, 3]. Note the square brackets. x = [\"Lord\", \"of\", \"the\", \"Rings\"]\n",
    "\n",
    "**Tuples:** An ordered sequence with a fixed number of elements, e.g., in x = (1, 2, 3), the parentheses makes it a tuple. x = (\"Kirk\", \"Picard\", \"Spock\")\n",
    "\n",
    "**Sets:** An unordered collection of **unique** values, absolutely no duplicates allowed.\n",
    "\n",
    "**Dictionaries**: An unordered collection of key-value pairs, e.g., x = {'Mark': 'Twain', 'Apples': 5}. To retrieve each value (the part after each colon), use its key (the part before each colon). For example, x['Apples'] retrieves the value 5.\n",
    "\n",
    "Throughout this lesson, we will review each data type more in depth and discuss common ways of interacting with each of them.\n",
    "\n",
    "[Python's basic data types](https://en.wikiversity.org/wiki/Python/Basic_data_types)."
   ]
  },
  {
   "cell_type": "markdown",
   "metadata": {
    "id": "q4gelWc8EP9G"
   },
   "source": [
    "---\n",
    "\n",
    "<a id='jupyter_nb'></a>\n",
    "## Jupyter Notebook\n",
    "\n",
    "Before we get started, let's go over interacting with iPython in the Jupyter Notebook."
   ]
  },
  {
   "cell_type": "markdown",
   "metadata": {
    "id": "IGPRoJDqEP9G"
   },
   "source": [
    "Code cells are run by pressing `shift + enter` or using the Play button in the toolbar."
   ]
  },
  {
   "cell_type": "code",
   "execution_count": 1,
   "metadata": {
    "id": "fd4QOpIsEP9H"
   },
   "outputs": [],
   "source": [
    "# This is a cell."
   ]
  },
  {
   "cell_type": "code",
   "execution_count": 2,
   "metadata": {
    "id": "xlpzxv3cEP9I"
   },
   "outputs": [],
   "source": [
    "# Assigning a variable:\n",
    "\n",
    "v = 1"
   ]
  },
  {
   "cell_type": "code",
   "execution_count": 3,
   "metadata": {
    "id": "dUBrWoKCEP9J"
   },
   "outputs": [],
   "source": [
    "# Assign another:\n",
    "\n",
    "variable = 'Data analysis is awesome!'"
   ]
  },
  {
   "cell_type": "code",
   "execution_count": 4,
   "metadata": {
    "id": "Opf3ey-UEP9J"
   },
   "outputs": [
    {
     "data": {
      "text/plain": [
       "'Data analysis is awesome!'"
      ]
     },
     "execution_count": 4,
     "metadata": {},
     "output_type": "execute_result"
    }
   ],
   "source": [
    "# Run this!\n",
    "variable"
   ]
  },
  {
   "cell_type": "code",
   "execution_count": 5,
   "metadata": {
    "id": "4e29ndYaEP9K"
   },
   "outputs": [
    {
     "name": "stdout",
     "output_type": "stream",
     "text": [
      "Data analysis is awesome!\n"
     ]
    }
   ],
   "source": [
    "# Print this:\n",
    "print(variable)"
   ]
  },
  {
   "cell_type": "markdown",
   "metadata": {
    "id": "q0NygSrrEP9K"
   },
   "source": [
    "You can also perform basic math using integers in the iPython notebook."
   ]
  },
  {
   "cell_type": "code",
   "execution_count": 6,
   "metadata": {
    "id": "287Dzq50EP9K"
   },
   "outputs": [
    {
     "data": {
      "text/plain": [
       "2"
      ]
     },
     "execution_count": 6,
     "metadata": {},
     "output_type": "execute_result"
    }
   ],
   "source": [
    "1 + 1"
   ]
  },
  {
   "cell_type": "code",
   "execution_count": 7,
   "metadata": {},
   "outputs": [
    {
     "data": {
      "text/plain": [
       "2300"
      ]
     },
     "execution_count": 7,
     "metadata": {},
     "output_type": "execute_result"
    }
   ],
   "source": [
    "100 * 23"
   ]
  },
  {
   "cell_type": "markdown",
   "metadata": {
    "id": "8wh09-DZEP9K"
   },
   "source": [
    "<a id='variables'></a>\n",
    "## Variables\n",
    "\n",
    "Variables are names that have been assigned to specific values or data. These names can be almost anything you want, but there are some restrictions and best practices.\n",
    "\n",
    "**Restrictions**\n",
    "- Variable names cannot be just a number (i.e., `2`, `0.01`, `10000`).\n",
    "- Variables cannot be assigned the same name as a default or imported function (i.e., '`type`', '`print`', '`for`').\n",
    "- Variable names cannot contain spaces.\n",
    "\n",
    "**Best Practices**\n",
    "- Variable names should be lowercase.\n",
    "- A variable's name should be representative of the value(s) it has been assigned.\n",
    "- If you must use multiple words in your variable name, use an underscore to separate them."
   ]
  },
  {
   "cell_type": "code",
   "execution_count": 8,
   "metadata": {
    "id": "7Pacp7z9EP9K"
   },
   "outputs": [
    {
     "data": {
      "text/plain": [
       "float"
      ]
     },
     "execution_count": 8,
     "metadata": {},
     "output_type": "execute_result"
    }
   ],
   "source": [
    "# Assigning a float:\n",
    "x = 1.0\n",
    "type(x)"
   ]
  },
  {
   "cell_type": "code",
   "execution_count": 9,
   "metadata": {
    "id": "x9ckK3CkEP9L"
   },
   "outputs": [
    {
     "data": {
      "text/plain": [
       "int"
      ]
     },
     "execution_count": 9,
     "metadata": {},
     "output_type": "execute_result"
    }
   ],
   "source": [
    "# Assigning an int:\n",
    "y = 1\n",
    "type(y)"
   ]
  },
  {
   "cell_type": "code",
   "execution_count": 10,
   "metadata": {
    "id": "Stx-1kvKEP9L"
   },
   "outputs": [
    {
     "data": {
      "text/plain": [
       "str"
      ]
     },
     "execution_count": 10,
     "metadata": {},
     "output_type": "execute_result"
    }
   ],
   "source": [
    "# Assigning a string:\n",
    "z = '1'\n",
    "type(z)"
   ]
  },
  {
   "cell_type": "code",
   "execution_count": 11,
   "metadata": {},
   "outputs": [
    {
     "name": "stdout",
     "output_type": "stream",
     "text": [
      "Variable   Type     Data/Info\n",
      "-----------------------------\n",
      "v          int      1\n",
      "variable   str      Data analysis is awesome!\n",
      "x          float    1.0\n",
      "y          int      1\n",
      "z          str      1\n"
     ]
    }
   ],
   "source": [
    "whos"
   ]
  },
  {
   "cell_type": "code",
   "execution_count": 12,
   "metadata": {},
   "outputs": [],
   "source": [
    "del(v)"
   ]
  },
  {
   "cell_type": "code",
   "execution_count": 13,
   "metadata": {},
   "outputs": [
    {
     "name": "stdout",
     "output_type": "stream",
     "text": [
      "Variable   Type     Data/Info\n",
      "-----------------------------\n",
      "variable   str      Data analysis is awesome!\n",
      "x          float    1.0\n",
      "y          int      1\n",
      "z          str      1\n"
     ]
    }
   ],
   "source": [
    "whos"
   ]
  },
  {
   "cell_type": "code",
   "execution_count": 14,
   "metadata": {},
   "outputs": [],
   "source": [
    "del(variable)"
   ]
  },
  {
   "cell_type": "code",
   "execution_count": 15,
   "metadata": {},
   "outputs": [
    {
     "data": {
      "text/plain": [
       "2329791674192"
      ]
     },
     "execution_count": 15,
     "metadata": {},
     "output_type": "execute_result"
    }
   ],
   "source": [
    "id(x)"
   ]
  },
  {
   "cell_type": "code",
   "execution_count": null,
   "metadata": {},
   "outputs": [],
   "source": []
  },
  {
   "cell_type": "markdown",
   "metadata": {
    "id": "R_i57ltbEP9L"
   },
   "source": [
    "**It is critical to remember that, when we're assigning variables, we are not stating that \"_x equals 1_,\" we're stating that \"_x has been assigned the value of 1_.\"**"
   ]
  },
  {
   "cell_type": "markdown",
   "metadata": {
    "id": "nT10cxL6EP9L"
   },
   "source": [
    "<a id='operators'></a>\n",
    "## Operators\n",
    "\n",
    "\"Operators are the constructs (that) can manipulate the value of operands.\" — [Tutorials Point: Python](https://www.tutorialspoint.com/python/python_basic_operators.htm)\n",
    "\n",
    "|     Symbol    |     Name              |     Explanation                                                |\n",
    "|---------------|-----------------------|----------------------------------------------------------------|\n",
    "|     +         |     Addition          |     Adds numbers or strings.                                   |\n",
    "|     -         |     Subtraction       |     Subtracts numbers.                                         |\n",
    "|     *         |     Multiplication    |     Multiplies numbers or strings.                             |\n",
    "|     /         |     Division          |     Divides numbers.                                           |\n",
    "|     %         |     Modulus           |     Produces the remainder from division.                      |\n",
    "|     **        |     Exponent          |     Raises the first number to the second   number’s power.    |"
   ]
  },
  {
   "cell_type": "markdown",
   "metadata": {
    "id": "89hc_51DEP9L"
   },
   "source": [
    "Operators can be used in a mathematical sense to calculate (or create) the sum, difference, product, or quotient of values or variables."
   ]
  },
  {
   "cell_type": "code",
   "execution_count": 24,
   "metadata": {
    "id": "KmO-TNg-EP9M"
   },
   "outputs": [
    {
     "name": "stdout",
     "output_type": "stream",
     "text": [
      "3\n",
      "0\n",
      "2\n",
      "0.5\n",
      "0\n"
     ]
    }
   ],
   "source": [
    "# Addition:\n",
    "print(1+2)\n",
    "# Subtraction:\n",
    "print(1-1)\n",
    "# Multiplication:\n",
    "print(1*2)\n",
    "# Division:\n",
    "print(1/2)\n",
    "# Quotient:\n",
    "print(1//2)"
   ]
  },
  {
   "cell_type": "markdown",
   "metadata": {
    "id": "0v9UQZFWEP9M"
   },
   "source": [
    "There is also \"`//`\" division, whose output will be the rounded-down whole number. (In mathematics, this is called the quotient.)"
   ]
  },
  {
   "cell_type": "code",
   "execution_count": 25,
   "metadata": {
    "id": "tt5DXFa8EP9M"
   },
   "outputs": [
    {
     "name": "stdout",
     "output_type": "stream",
     "text": [
      "1.0\n",
      "-1.0\n"
     ]
    }
   ],
   "source": [
    "# Division of float numbers:\n",
    "print(3.0//2.0)\n",
    "print(-3.0//3.0)"
   ]
  },
  {
   "cell_type": "markdown",
   "metadata": {
    "id": "uW_-gfamEP9M"
   },
   "source": [
    "The `=` sign in Python is known as the assignment operator. It is the means by which we can assign values to variables."
   ]
  },
  {
   "cell_type": "code",
   "execution_count": 26,
   "metadata": {
    "id": "_IJ3c9OrEP9N"
   },
   "outputs": [
    {
     "name": "stdout",
     "output_type": "stream",
     "text": [
      "3\n"
     ]
    }
   ],
   "source": [
    "a = 1\n",
    "b = 2\n",
    "print(a+b)"
   ]
  },
  {
   "cell_type": "code",
   "execution_count": 27,
   "metadata": {},
   "outputs": [
    {
     "data": {
      "text/plain": [
       "float"
      ]
     },
     "execution_count": 27,
     "metadata": {},
     "output_type": "execute_result"
    }
   ],
   "source": [
    "#  <= <- = ASSIGNMENT OPERATORS\n",
    "number = 2.0\n",
    "type(number)"
   ]
  },
  {
   "cell_type": "code",
   "execution_count": 30,
   "metadata": {
    "id": "I8IH10QAEP9N",
    "tags": []
   },
   "outputs": [
    {
     "data": {
      "text/plain": [
       "16"
      ]
     },
     "execution_count": 30,
     "metadata": {},
     "output_type": "execute_result"
    }
   ],
   "source": [
    "# Exponent power operator:\n",
    "2**4"
   ]
  },
  {
   "cell_type": "code",
   "execution_count": 31,
   "metadata": {
    "id": "sybVUDNlEP9N"
   },
   "outputs": [
    {
     "data": {
      "text/plain": [
       "1"
      ]
     },
     "execution_count": 31,
     "metadata": {},
     "output_type": "execute_result"
    }
   ],
   "source": [
    "# Modulus can be used to get the remainder:\n",
    "5%2"
   ]
  },
  {
   "cell_type": "code",
   "execution_count": 32,
   "metadata": {},
   "outputs": [
    {
     "data": {
      "text/plain": [
       "1"
      ]
     },
     "execution_count": 32,
     "metadata": {},
     "output_type": "execute_result"
    }
   ],
   "source": [
    "26%5"
   ]
  },
  {
   "cell_type": "code",
   "execution_count": 33,
   "metadata": {},
   "outputs": [
    {
     "data": {
      "text/plain": [
       "2"
      ]
     },
     "execution_count": 33,
     "metadata": {},
     "output_type": "execute_result"
    }
   ],
   "source": [
    "11%3"
   ]
  },
  {
   "cell_type": "markdown",
   "metadata": {
    "id": "C2HbPBsFEP9N"
   },
   "source": [
    "**Booleans and Boolean Evaluation Operators**\n",
    "\n",
    "Booleans exist as either true or false and are generally used as a means of evaluation."
   ]
  },
  {
   "cell_type": "code",
   "execution_count": 34,
   "metadata": {
    "id": "7RFr-mwNEP9N"
   },
   "outputs": [
    {
     "data": {
      "text/plain": [
       "False"
      ]
     },
     "execution_count": 34,
     "metadata": {},
     "output_type": "execute_result"
    }
   ],
   "source": [
    "True and False"
   ]
  },
  {
   "cell_type": "code",
   "execution_count": 35,
   "metadata": {
    "id": "NyOmSsswEP9N"
   },
   "outputs": [
    {
     "data": {
      "text/plain": [
       "True"
      ]
     },
     "execution_count": 35,
     "metadata": {},
     "output_type": "execute_result"
    }
   ],
   "source": [
    "not False"
   ]
  },
  {
   "cell_type": "code",
   "execution_count": 36,
   "metadata": {
    "id": "FzP0iVpZEP9O"
   },
   "outputs": [
    {
     "data": {
      "text/plain": [
       "True"
      ]
     },
     "execution_count": 36,
     "metadata": {},
     "output_type": "execute_result"
    }
   ],
   "source": [
    "True or False"
   ]
  },
  {
   "cell_type": "markdown",
   "metadata": {
    "id": "p4vIaOOcEP9O"
   },
   "source": [
    "**Comparison Operators**\n",
    "\n",
    "- Less than: **`<`**\n",
    "- Greater than: **`>`**\n",
    "- Less than or equal to: **`<=`**\n",
    "- Greater than or equal to: **`<=`**\n",
    "- Equals: **`==`**\n",
    "- Does not equal: **`!=`**\n"
   ]
  },
  {
   "cell_type": "code",
   "execution_count": 39,
   "metadata": {
    "id": "_BbvFkevEP9O"
   },
   "outputs": [
    {
     "data": {
      "text/plain": [
       "tuple"
      ]
     },
     "execution_count": 39,
     "metadata": {},
     "output_type": "execute_result"
    }
   ],
   "source": [
    "a = 2 > 1, 2 < 1, 2>2, 2<2, 2>=2, 2<=2\n",
    "type(a)"
   ]
  },
  {
   "cell_type": "code",
   "execution_count": 40,
   "metadata": {},
   "outputs": [
    {
     "data": {
      "text/plain": [
       "(True, False, False, False, True, True)"
      ]
     },
     "execution_count": 40,
     "metadata": {},
     "output_type": "execute_result"
    }
   ],
   "source": [
    "a"
   ]
  },
  {
   "cell_type": "code",
   "execution_count": 42,
   "metadata": {
    "id": "Ujgb5eKLEP9O"
   },
   "outputs": [],
   "source": [
    "# equality\n",
    "\n",
    "a = [1,2]"
   ]
  },
  {
   "cell_type": "code",
   "execution_count": 46,
   "metadata": {},
   "outputs": [
    {
     "data": {
      "text/plain": [
       "(1, 2)"
      ]
     },
     "execution_count": 46,
     "metadata": {},
     "output_type": "execute_result"
    }
   ],
   "source": [
    "a[0], a[1]"
   ]
  },
  {
   "cell_type": "code",
   "execution_count": 47,
   "metadata": {},
   "outputs": [
    {
     "data": {
      "text/plain": [
       "list"
      ]
     },
     "execution_count": 47,
     "metadata": {},
     "output_type": "execute_result"
    }
   ],
   "source": [
    "type(a)"
   ]
  },
  {
   "cell_type": "code",
   "execution_count": 48,
   "metadata": {},
   "outputs": [
    {
     "data": {
      "text/plain": [
       "int"
      ]
     },
     "execution_count": 48,
     "metadata": {},
     "output_type": "execute_result"
    }
   ],
   "source": [
    "type(a[0])"
   ]
  },
  {
   "cell_type": "code",
   "execution_count": 50,
   "metadata": {},
   "outputs": [
    {
     "data": {
      "text/plain": [
       "(True, False)"
      ]
     },
     "execution_count": 50,
     "metadata": {},
     "output_type": "execute_result"
    }
   ],
   "source": [
    "[1,2] == [1,2], [1,2] != [1,2]"
   ]
  },
  {
   "cell_type": "markdown",
   "metadata": {
    "id": "oIOaYFbFEP9O"
   },
   "source": [
    "<a id='numbers'></a>\n",
    "## Numbers in Python\n",
    "\n",
    "Numbers in Python can be stored four ways. Two — floats and integers — are very common, and the other two — [long](https://docs.python.org/2/library/functions.html#long) and [complex](https://docs.python.org/2/library/functions.html#complex) — are relatively uncommon. Today, we'll review integers and floats, as there is a good chance these will be the only ones you'll ever use.\n",
    "\n",
    "Integers are whole numbers.\n",
    "- 1\n",
    "- 200\n",
    "- 100009\n",
    "\n",
    "Floats are numbers with decimals. The name \"float\" comes from \"floating point,\" as the decimal can _float_ the length of the number.\n",
    "- 1.11\n",
    "- 26.006\n",
    "- 3.0"
   ]
  },
  {
   "cell_type": "code",
   "execution_count": 51,
   "metadata": {
    "id": "KEZ-SgctEP9O"
   },
   "outputs": [
    {
     "data": {
      "text/plain": [
       "(int, float)"
      ]
     },
     "execution_count": 51,
     "metadata": {},
     "output_type": "execute_result"
    }
   ],
   "source": [
    "x_int = 1\n",
    "x_float = 1.0\n",
    "\n",
    "type(x_int), type(x_float)"
   ]
  },
  {
   "cell_type": "markdown",
   "metadata": {
    "id": "dbQ6Dx_YEP9O"
   },
   "source": [
    "If an integer or float is compatible, it can be converted to the other type."
   ]
  },
  {
   "cell_type": "code",
   "execution_count": 52,
   "metadata": {
    "id": "jyfbOSBaEP9U"
   },
   "outputs": [
    {
     "data": {
      "text/plain": [
       "1.0"
      ]
     },
     "execution_count": 52,
     "metadata": {},
     "output_type": "execute_result"
    }
   ],
   "source": [
    "float(x_int)"
   ]
  },
  {
   "cell_type": "code",
   "execution_count": 53,
   "metadata": {
    "id": "NQotmmW7EP9U"
   },
   "outputs": [
    {
     "data": {
      "text/plain": [
       "1"
      ]
     },
     "execution_count": 53,
     "metadata": {},
     "output_type": "execute_result"
    }
   ],
   "source": [
    "int(x_float)"
   ]
  },
  {
   "cell_type": "code",
   "execution_count": 54,
   "metadata": {},
   "outputs": [
    {
     "data": {
      "text/plain": [
       "int"
      ]
     },
     "execution_count": 54,
     "metadata": {},
     "output_type": "execute_result"
    }
   ],
   "source": [
    "type(int(x_float))"
   ]
  },
  {
   "cell_type": "markdown",
   "metadata": {
    "id": "sDUf2F-pEP9U"
   },
   "source": [
    "<a id='strings'></a>\n",
    "\n",
    "## Strings\n",
    "\n",
    "Strings are essentially any character combination in between quotes. They are most often used as a way of storing text."
   ]
  },
  {
   "cell_type": "code",
   "execution_count": 55,
   "metadata": {
    "id": "eOdB4kFEEP9V"
   },
   "outputs": [
    {
     "data": {
      "text/plain": [
       "str"
      ]
     },
     "execution_count": 55,
     "metadata": {},
     "output_type": "execute_result"
    }
   ],
   "source": [
    "s = \"hello world\"\n",
    "type(s)"
   ]
  },
  {
   "cell_type": "code",
   "execution_count": 56,
   "metadata": {},
   "outputs": [],
   "source": [
    "s = 'hello world'"
   ]
  },
  {
   "cell_type": "markdown",
   "metadata": {
    "id": "CLsscMQpEP9V"
   },
   "source": [
    "Strings have a lot of associated methods and attributes that allow us to better understand and manipulate them."
   ]
  },
  {
   "cell_type": "code",
   "execution_count": 57,
   "metadata": {
    "id": "1U0V_rfqEP9V"
   },
   "outputs": [
    {
     "data": {
      "text/plain": [
       "11"
      ]
     },
     "execution_count": 57,
     "metadata": {},
     "output_type": "execute_result"
    }
   ],
   "source": [
    "# Length of the string:\n",
    "len(s)"
   ]
  },
  {
   "cell_type": "code",
   "execution_count": 62,
   "metadata": {
    "id": "N0RRBk1qEP9V"
   },
   "outputs": [],
   "source": [
    "# Replace an element of a string:\n",
    "s2 = s.replace('world','test')"
   ]
  },
  {
   "cell_type": "code",
   "execution_count": 64,
   "metadata": {},
   "outputs": [
    {
     "name": "stdout",
     "output_type": "stream",
     "text": [
      "hello test\n",
      "hello world\n"
     ]
    }
   ],
   "source": [
    "print(s2)\n",
    "print(s)"
   ]
  },
  {
   "cell_type": "code",
   "execution_count": 65,
   "metadata": {},
   "outputs": [
    {
     "data": {
      "text/plain": [
       "'hello test'"
      ]
     },
     "execution_count": 65,
     "metadata": {},
     "output_type": "execute_result"
    }
   ],
   "source": [
    "s2"
   ]
  },
  {
   "cell_type": "code",
   "execution_count": 66,
   "metadata": {},
   "outputs": [
    {
     "name": "stdout",
     "output_type": "stream",
     "text": [
      "Variable   Type     Data/Info\n",
      "-----------------------------\n",
      "a          list     n=2\n",
      "b          int      2\n",
      "j          int      4\n",
      "number     float    2.0\n",
      "s          str      hello world\n",
      "s2         str      hello test\n",
      "x          float    1.0\n",
      "x_float    float    1.0\n",
      "x_int      int      1\n",
      "y          int      1\n",
      "z          str      1\n"
     ]
    }
   ],
   "source": [
    "whos"
   ]
  },
  {
   "cell_type": "markdown",
   "metadata": {
    "id": "7tntLLr2EP9V"
   },
   "source": [
    "<a id='slicing'></a>\n",
    "\n",
    "\n",
    "**String Indexing**  \n",
    "\n",
    "We can extract characters at specific index locations in a string using indexing."
   ]
  },
  {
   "cell_type": "code",
   "execution_count": 71,
   "metadata": {
    "id": "pdGMs11yEP9V"
   },
   "outputs": [
    {
     "data": {
      "text/plain": [
       "'w'"
      ]
     },
     "execution_count": 71,
     "metadata": {},
     "output_type": "execute_result"
    }
   ],
   "source": [
    "# Indexing the first (index 0) character in the string:\n",
    "s[6]"
   ]
  },
  {
   "cell_type": "markdown",
   "metadata": {
    "id": "OTsRJXZTEP9V"
   },
   "source": [
    "The number you enter after the variable name in brackets (the `[0]`) is called the **index** (its plural is **indices**).\n",
    "\n",
    "_Counting in Python and many other programming languages begins at zero, as opposed to one. This is called **zero-based indexing**._"
   ]
  },
  {
   "cell_type": "code",
   "execution_count": 73,
   "metadata": {
    "id": "ZCfCltrFEP9W"
   },
   "outputs": [
    {
     "data": {
      "text/plain": [
       "'hello'"
      ]
     },
     "execution_count": 73,
     "metadata": {},
     "output_type": "execute_result"
    }
   ],
   "source": [
    "# This is called *slicing*. We start at the left index\n",
    "#   and go up to but don't include the right index:\n",
    "\n",
    "# Objects at indexes 0, 1, and 2\n",
    "s[0:3] # inclusive -> exclusive boundaries\n",
    "s[0:5]"
   ]
  },
  {
   "cell_type": "markdown",
   "metadata": {
    "id": "Mtdkj46oEP9W"
   },
   "source": [
    "Most ranges or functions with ranges have upper ends that are not inclusive. So, a range of `[0:5]` starts at `0` and stops before `5`."
   ]
  },
  {
   "cell_type": "code",
   "execution_count": 74,
   "metadata": {
    "id": "JZz19C3wEP9W"
   },
   "outputs": [
    {
     "data": {
      "text/plain": [
       "'world'"
      ]
     },
     "execution_count": 74,
     "metadata": {},
     "output_type": "execute_result"
    }
   ],
   "source": [
    "# From index 6 up to the end of the string:\n",
    "s[6:]"
   ]
  },
  {
   "cell_type": "code",
   "execution_count": 75,
   "metadata": {
    "id": "ElmRtHZ1EP9W"
   },
   "outputs": [
    {
     "data": {
      "text/plain": [
       "'hello world'"
      ]
     },
     "execution_count": 75,
     "metadata": {},
     "output_type": "execute_result"
    }
   ],
   "source": [
    "# No start or end specified:\n",
    "s[:]"
   ]
  },
  {
   "cell_type": "code",
   "execution_count": 82,
   "metadata": {
    "id": "M3Q7mX2HEP9W"
   },
   "outputs": [
    {
     "data": {
      "text/plain": [
       "'ello wor'"
      ]
     },
     "execution_count": 82,
     "metadata": {},
     "output_type": "execute_result"
    }
   ],
   "source": [
    "# Can we index from the right side?\n",
    "s[1:-2]"
   ]
  },
  {
   "cell_type": "markdown",
   "metadata": {
    "id": "-ZS_thXlEP9W"
   },
   "source": [
    "In addition to specifying a range, you can add a step size or character skip rate."
   ]
  },
  {
   "cell_type": "code",
   "execution_count": null,
   "metadata": {
    "id": "tLGINs4WEP9W"
   },
   "outputs": [],
   "source": [
    "# Define a step size of 2, i.e., every other character:\n",
    "s[::2]"
   ]
  },
  {
   "cell_type": "code",
   "execution_count": null,
   "metadata": {},
   "outputs": [],
   "source": [
    "#slicing works like this [start pos: end pos: step size]"
   ]
  },
  {
   "cell_type": "markdown",
   "metadata": {
    "id": "OG_tEGolEP9X"
   },
   "source": [
    "#### Concatenating\n",
    "To add two strings together, type the first string, an addition sign, and then the second string."
   ]
  },
  {
   "cell_type": "code",
   "execution_count": 86,
   "metadata": {
    "id": "xnAXhyXFEP9X"
   },
   "outputs": [
    {
     "name": "stdout",
     "output_type": "stream",
     "text": [
      "hello world\n"
     ]
    }
   ],
   "source": [
    "print('hello' + ' ' + 'world')"
   ]
  },
  {
   "cell_type": "markdown",
   "metadata": {
    "id": "hGwgBjjhEP9X"
   },
   "source": [
    "You can do the same with variables that refer to strings.\n",
    "\n",
    "In the iPython notebook, type:"
   ]
  },
  {
   "cell_type": "code",
   "execution_count": 88,
   "metadata": {
    "id": "m730m7XVEP9Y"
   },
   "outputs": [
    {
     "data": {
      "text/plain": [
       "'hello world'"
      ]
     },
     "execution_count": 88,
     "metadata": {},
     "output_type": "execute_result"
    }
   ],
   "source": [
    "x = 'hello'\n",
    "y = 'world'\n",
    "s = ' '\n",
    "\n",
    "x+s+y"
   ]
  },
  {
   "cell_type": "code",
   "execution_count": 142,
   "metadata": {
    "id": "stekmaQ_EP9Y"
   },
   "outputs": [
    {
     "name": "stdout",
     "output_type": "stream",
     "text": [
      "you rolled a 7.\n"
     ]
    }
   ],
   "source": [
    "# Conversion from int to str is required!\n",
    "\n",
    "import random\n",
    "\n",
    "\n",
    "dice_roll = random.randint(0,6) + 4\n",
    "\n",
    "print('you rolled a ' + str(dice_roll) + '.')"
   ]
  },
  {
   "cell_type": "markdown",
   "metadata": {
    "id": "y_Hjd-yKEP9Y"
   },
   "source": [
    "There is also \"C-style\" formatting, which allows us to create a string with placeholder values that we can populate."
   ]
  },
  {
   "cell_type": "code",
   "execution_count": 143,
   "metadata": {
    "id": "vnrpXV-OEP9Y"
   },
   "outputs": [
    {
     "name": "stdout",
     "output_type": "stream",
     "text": [
      "value= 1.000000\n"
     ]
    }
   ],
   "source": [
    "# C-style formatting:\n",
    "\n",
    "# \"%f\" is the placeholder for a float.\n",
    "print('value= %f' % 1.0)"
   ]
  },
  {
   "cell_type": "code",
   "execution_count": 144,
   "metadata": {
    "id": "iZW8ApzDEP9Y"
   },
   "outputs": [
    {
     "name": "stdout",
     "output_type": "stream",
     "text": [
      "values1 = 3.14159, value2 = 1.5\n"
     ]
    }
   ],
   "source": [
    "# An alternative, more intuitive way of formatting a string:\n",
    "s3 = 'values1 = {0}, value2 = {1}'.format(3.14159, 1.5)\n",
    "print(s3)"
   ]
  },
  {
   "cell_type": "markdown",
   "metadata": {
    "id": "T6lllHgOEP9Y"
   },
   "source": [
    "Multiplying is very easy and straightforward."
   ]
  },
  {
   "cell_type": "code",
   "execution_count": 148,
   "metadata": {
    "id": "__aXnuY7EP9Y"
   },
   "outputs": [
    {
     "name": "stdout",
     "output_type": "stream",
     "text": [
      "You currently have 1000 in your checking. You are attempting to withdraw 400... correct?\n"
     ]
    }
   ],
   "source": [
    "capture1 = str(1000)\n",
    "capture2 = str(400)\n",
    "\n",
    "print('You currently have {0} in your checking. You are attempting to withdraw {1}... correct?'.format(capture1, capture2))"
   ]
  },
  {
   "cell_type": "code",
   "execution_count": 149,
   "metadata": {},
   "outputs": [
    {
     "name": "stdout",
     "output_type": "stream",
     "text": [
      "You currently have 1000 in your checking. You are attempting to withdraw 400... correct?\n"
     ]
    }
   ],
   "source": [
    "capture1 = str(1000)\n",
    "capture2 = str(400)\n",
    "\n",
    "print(f'You currently have {capture1} in your checking. You are attempting to withdraw {capture2}... correct?')"
   ]
  },
  {
   "cell_type": "code",
   "execution_count": 151,
   "metadata": {},
   "outputs": [
    {
     "data": {
      "text/plain": [
       "'Hello Hello Hello Hello Hello'"
      ]
     },
     "execution_count": 151,
     "metadata": {},
     "output_type": "execute_result"
    }
   ],
   "source": [
    "x = 'Hello '\n",
    "x * 5\n",
    "\n",
    "\n",
    "(x*4)+x[:-1]"
   ]
  },
  {
   "cell_type": "markdown",
   "metadata": {
    "id": "0R0GBPZ1EP9Z"
   },
   "source": [
    "<a id='lists'></a>\n",
    "\n",
    "\n",
    "## Lists\n",
    "\n",
    "A list is an ordered collection of data combined into one variable. Each item in a list is assigned an index value based on its position. These index values allow us to access individual elements within the list.\n",
    "\n",
    "You create a list using a set of square brackets. Inside the brackets, each value must be separated by a comma.\n",
    "\n",
    "```python\n",
    "fruits = [\"banana\", \"orange\", \"apple\"]\n",
    "```\n",
    "Lists can be composed of ints, floats, strings, or other lists, as well as other data types we haven't covered yet. Although it most often makes sense for all values to be the same data type, there’s no rule against using a list to store data of varying types."
   ]
  },
  {
   "cell_type": "code",
   "execution_count": 1,
   "metadata": {
    "id": "gVHDXbnLEP9Z"
   },
   "outputs": [],
   "source": [
    "names = [\"Joseph\", \"Bob\", \"Rick\", \"John\"]"
   ]
  },
  {
   "cell_type": "code",
   "execution_count": null,
   "metadata": {
    "id": "4ogDa19SEP9Z"
   },
   "outputs": [],
   "source": [
    "# The contents of a variable can be reassigned to another variable:\n"
   ]
  },
  {
   "cell_type": "code",
   "execution_count": null,
   "metadata": {
    "id": "aRKy654WEP9Z"
   },
   "outputs": [],
   "source": []
  },
  {
   "cell_type": "code",
   "execution_count": null,
   "metadata": {
    "id": "HY7Oxm_1EP9Z"
   },
   "outputs": [],
   "source": [
    "# List of strings:\n"
   ]
  },
  {
   "cell_type": "markdown",
   "metadata": {
    "id": "YyWoU_TuEP9Z"
   },
   "source": [
    "Lists also have several methods that allow us to alter them, such as the `.append()` method, which allows us to add another element to the end of a list."
   ]
  },
  {
   "cell_type": "code",
   "execution_count": null,
   "metadata": {
    "id": "Rl189vUaEP9a"
   },
   "outputs": [],
   "source": []
  },
  {
   "cell_type": "code",
   "execution_count": null,
   "metadata": {
    "id": "1Q-_7gS2EP9a"
   },
   "outputs": [],
   "source": []
  },
  {
   "cell_type": "code",
   "execution_count": null,
   "metadata": {
    "id": "QWEdCb_0EP9a"
   },
   "outputs": [],
   "source": [
    "# Lists can be indexed in the same way as strings:\n"
   ]
  },
  {
   "cell_type": "code",
   "execution_count": 2,
   "metadata": {
    "id": "LxgG3T0REP9a"
   },
   "outputs": [
    {
     "data": {
      "text/plain": [
       "'Jsp'"
      ]
     },
     "execution_count": 2,
     "metadata": {},
     "output_type": "execute_result"
    }
   ],
   "source": [
    "# We can slice a value in a list as well:\n",
    "names[0][::2]"
   ]
  },
  {
   "cell_type": "markdown",
   "metadata": {
    "id": "1vAisXU2EP9a"
   },
   "source": [
    "Note that we always read indexing from left to right. In the example above, the interpreter looks up `names` and gets the first element, which is the string `\"Bob\"`. Then, the slice (`[1:]`) adds the first index of that string to the end of the original string, evaluating to `\"ob\"`.\n",
    "\n",
    "Interestingly, the following works in the same way. Instead of having to look up the value of `names`, the list is directly specified (just read the line from left to right!)."
   ]
  },
  {
   "cell_type": "code",
   "execution_count": null,
   "metadata": {
    "id": "S2-3CXbKEP9a"
   },
   "outputs": [],
   "source": [
    "[\"Joseph\""
   ]
  },
  {
   "cell_type": "code",
   "execution_count": null,
   "metadata": {
    "id": "n2bRlO6_EP9a"
   },
   "outputs": [],
   "source": [
    "# Lists don't have to be the same type:\n"
   ]
  },
  {
   "cell_type": "code",
   "execution_count": null,
   "metadata": {
    "id": "jbJRDrDtEP9b"
   },
   "outputs": [],
   "source": [
    "# We can create a list of values in a range using the \"range\" function:\n",
    "\n",
    "\n",
    "# range() produces a \"generator,\" which is beyond the scope of this introduction!\n",
    "# It is often convenient to have the generator\n",
    "#    generate all of its values by converting it to a list:\n"
   ]
  },
  {
   "cell_type": "markdown",
   "metadata": {
    "id": "HxHGPVe-EP9b"
   },
   "source": [
    "Here's how we create a list from scratch:"
   ]
  },
  {
   "cell_type": "code",
   "execution_count": null,
   "metadata": {
    "id": "quo_JHD1EP9b"
   },
   "outputs": [],
   "source": [
    "# Create a new empty list:\n",
    "\n",
    "\n",
    "# Add an element using append():\n"
   ]
  },
  {
   "cell_type": "code",
   "execution_count": null,
   "metadata": {
    "id": "QD0-HXwZEP9b"
   },
   "outputs": [],
   "source": [
    "# Reassign a range of values with another list:\n"
   ]
  },
  {
   "cell_type": "markdown",
   "metadata": {
    "id": "rfr10StjEP9b"
   },
   "source": [
    "Use the `.insert()` method to add values at specific indices."
   ]
  },
  {
   "cell_type": "code",
   "execution_count": null,
   "metadata": {
    "id": "_SOhhkaAEP9b"
   },
   "outputs": [],
   "source": []
  },
  {
   "cell_type": "markdown",
   "metadata": {
    "id": "0bc0qUhiEP9c"
   },
   "source": [
    "If a value already exists at an index where we're trying to insert the new value, the original value gets bumped to the next index.\n",
    "\n",
    "---\n",
    "The `.remove()` method can be used to remove specific values if they appear in a list."
   ]
  },
  {
   "cell_type": "code",
   "execution_count": null,
   "metadata": {
    "id": "VHdYsSXBEP9c"
   },
   "outputs": [],
   "source": []
  },
  {
   "cell_type": "markdown",
   "metadata": {
    "id": "c29n7JCTEP9c"
   },
   "source": [
    "On the other hand, the `del()` function can be used with a list and index to delete values."
   ]
  },
  {
   "cell_type": "code",
   "execution_count": null,
   "metadata": {
    "id": "x2Rt7tU0EP9c"
   },
   "outputs": [],
   "source": []
  },
  {
   "cell_type": "markdown",
   "metadata": {
    "id": "Ws05nQLkEP9c"
   },
   "source": [
    "<a id='tuples'></a>\n",
    "\n",
    "\n",
    "## Tuples\n",
    "\n",
    "Tuples are similar to lists in that they store a sequence of various separate values. However, tuples are not mutable in that, once they are created, their values cannot be changed."
   ]
  },
  {
   "cell_type": "code",
   "execution_count": null,
   "metadata": {
    "id": "rEK5xbR5EP9c"
   },
   "outputs": [],
   "source": []
  },
  {
   "cell_type": "code",
   "execution_count": null,
   "metadata": {
    "id": "CBDlYFlwEP9c"
   },
   "outputs": [],
   "source": [
    "# They can be sliced just like lists and strings:\n"
   ]
  },
  {
   "cell_type": "markdown",
   "metadata": {
    "id": "vwIR_AfjEP9d"
   },
   "source": [
    "Unpacking a variable is a common practice when iterating through Python data types. Unpacking essentially allows us to simultaneously set new variables to items in a list, tuple, or dictionary.  "
   ]
  },
  {
   "cell_type": "code",
   "execution_count": null,
   "metadata": {
    "id": "Unj0EGzNEP9d"
   },
   "outputs": [],
   "source": [
    "# Unpacking:\n"
   ]
  },
  {
   "cell_type": "markdown",
   "metadata": {
    "id": "YJqdIYJjEP9d"
   },
   "source": [
    "<a id='sets'></a>\n",
    "\n",
    "## Sets\n",
    "\n",
    "A set is an unordered collection of unique values. You can’t use an index to access a specific element in a set. Instead, sets have methods for accessing or manipulating collection members. They are commonly used when trying to work out differences between two data sets (e.g. union, intersection or difference).\n",
    "\n"
   ]
  },
  {
   "cell_type": "code",
   "execution_count": null,
   "metadata": {
    "id": "FUztzL6REP9d"
   },
   "outputs": [],
   "source": []
  },
  {
   "cell_type": "markdown",
   "metadata": {
    "id": "ckTRwIqGEP9d"
   },
   "source": [
    "We can add to a set using `.add()`"
   ]
  },
  {
   "cell_type": "code",
   "execution_count": null,
   "metadata": {
    "id": "39iTwLZmEP9d"
   },
   "outputs": [],
   "source": []
  },
  {
   "cell_type": "markdown",
   "metadata": {
    "id": "5hvFCsnSEP9d"
   },
   "source": [
    "And we can remove items from a set using `.remove()`"
   ]
  },
  {
   "cell_type": "code",
   "execution_count": null,
   "metadata": {
    "id": "pelVw4KMEP9d"
   },
   "outputs": [],
   "source": []
  },
  {
   "cell_type": "markdown",
   "metadata": {
    "id": "OEj3j1wjEP9e"
   },
   "source": [
    "One of the most common uses of sets is to find the unique values in a longer data structure like a list, or a column in a dataset. We can use `set()` to do this:"
   ]
  },
  {
   "cell_type": "code",
   "execution_count": null,
   "metadata": {
    "id": "BeD46Qq_EP9e"
   },
   "outputs": [],
   "source": []
  },
  {
   "cell_type": "markdown",
   "metadata": {
    "id": "3xGtivSkEP9e"
   },
   "source": [
    "<a id='dictionary'></a>\n",
    "\n",
    "\n",
    "## Dictionaries\n",
    "\n",
    "Dictionaries are a non-ordered Python data type. Instead of using an ordered index to access data stored in a dictionary, we use a system of key-value pairs.\n",
    "\n",
    "- A key is similar to a variable name.\n",
    "- A value is similar to the value assigned to the variable.\n",
    "\n",
    "Curly braces ({ }) enclose dictionaries. Note: You can also use curly braces to construct a set. The first input in a dictionary pair is the \"key.\" The second input in a dictionary pair is the \"value.\" The general format looks like this:"
   ]
  },
  {
   "cell_type": "code",
   "execution_count": null,
   "metadata": {
    "id": "INRAtHILEP9e"
   },
   "outputs": [],
   "source": []
  },
  {
   "cell_type": "markdown",
   "metadata": {
    "id": "yYq4uhlpEP9e"
   },
   "source": [
    "The keys stay the same, but the values are changeable. You can also only have one occurrence of a key in a dictionary, but you can have all of the values be the same."
   ]
  },
  {
   "cell_type": "code",
   "execution_count": null,
   "metadata": {
    "id": "YOQr-v-8EP9e"
   },
   "outputs": [],
   "source": [
    "# Value for parameter2 in the params dictionary:\n"
   ]
  },
  {
   "cell_type": "code",
   "execution_count": null,
   "metadata": {
    "id": "T6iUZhgrEP9e"
   },
   "outputs": [],
   "source": [
    "# Adding a new dictionary entry:\n"
   ]
  },
  {
   "cell_type": "code",
   "execution_count": null,
   "metadata": {
    "id": "on0ztM2hEP9e"
   },
   "outputs": [],
   "source": [
    "# Print the entirety of the dictionary:\n"
   ]
  },
  {
   "cell_type": "code",
   "execution_count": null,
   "metadata": {
    "id": "KP-D_bJMEP9f"
   },
   "outputs": [],
   "source": [
    "# Reassigning the value of a key-value pair in the dictionary:\n"
   ]
  },
  {
   "cell_type": "code",
   "execution_count": null,
   "metadata": {
    "id": "gXDmVECNEP9f"
   },
   "outputs": [],
   "source": []
  },
  {
   "cell_type": "code",
   "execution_count": null,
   "metadata": {
    "id": "LBGRBDDjEP9f"
   },
   "outputs": [],
   "source": [
    "# Dictionaries also have methods.\n",
    "\n",
    "# Convert a dictionary to a list of tuples (key-value pairs).\n",
    "# This is later used to conveniently loop through a dictionary:\n"
   ]
  },
  {
   "cell_type": "markdown",
   "metadata": {
    "id": "98aVqM5BEP9f"
   },
   "source": [
    "<a id='import'></a>\n",
    "\n",
    "## Importing Packages and Documentation"
   ]
  },
  {
   "cell_type": "markdown",
   "metadata": {
    "id": "5BN9buBLEP9f"
   },
   "source": [
    "Not everything we will use is readily available in Python. Sometimes, we'll need to import packages, which are assemblies of functions or additional data types."
   ]
  },
  {
   "cell_type": "code",
   "execution_count": null,
   "metadata": {
    "id": "9Ol6w6qAEP9f"
   },
   "outputs": [],
   "source": []
  },
  {
   "cell_type": "markdown",
   "metadata": {
    "id": "vzYuehx7EP9f"
   },
   "source": [
    "Import the whole module into the current namespace instead."
   ]
  },
  {
   "cell_type": "code",
   "execution_count": null,
   "metadata": {
    "id": "0qwiMNHGEP9g"
   },
   "outputs": [],
   "source": []
  },
  {
   "cell_type": "markdown",
   "metadata": {
    "id": "SyNXWjM9EP9g"
   },
   "source": [
    "There are several ways to look at a module's documentation. Within the Jupyter Notebook, we can use the `help()` function, or you can place your cursor inside of a function and press `shift + tab`."
   ]
  },
  {
   "cell_type": "code",
   "execution_count": null,
   "metadata": {
    "id": "te2FHmTYEP9g"
   },
   "outputs": [],
   "source": []
  },
  {
   "cell_type": "markdown",
   "metadata": {
    "id": "a_JPO2XdEP9g"
   },
   "source": [
    "<a name=\"ind-practice\"></a>\n",
    "## Independent Practice\n",
    "Pair up and make up your own statements using strings, lists, indexing, and concatenation, as well as other Python elements discussed in this lesson. See if your partner can tell you what will be returned BEFORE running it.\n",
    "\n",
    "\n",
    "\n",
    "----\n"
   ]
  },
  {
   "cell_type": "markdown",
   "metadata": {
    "id": "6ySOb3TWEP9g"
   },
   "source": [
    "\n",
    "<a name=\"conclusion\"></a>\n",
    "## Lesson Summary\n",
    "\n",
    "\n",
    "Let's review what we learned today. We:\n",
    "\n",
    "- Discussed why Python is popular for data analysis.\n",
    "- Demonstrated variable assignment.\n",
    "- Defined integers, strings, tuples, lists, and dictionaries.\n",
    "- Demonstrated arithmetic operations and string operations.\n",
    "\n",
    "\n",
    "### Additional Questions?\n",
    "\n",
    "\n",
    "....\n",
    "\n",
    "### Additional Resources\n",
    "\n",
    "- [Learn Python on Codecademy](https://www.codecademy.com/learn/python)\n",
    "- [Learn Python the Hard Way](https://learnpythonthehardway.org)\n",
    "- [Python Data Types and Variables](http://www.python-course.eu/variables.php)\n",
    "- [Python IF… ELIF… ELSE Statements](https://www.tutorialspoint.com/python/python_if_else.htm)\n",
    "- [Python Loops](https://www.tutorialspoint.com/python/python_loops.htm)\n",
    "- [Python Control Flow](https://python.swaroopch.com/control_flow.html)"
   ]
  },
  {
   "cell_type": "code",
   "execution_count": null,
   "metadata": {
    "id": "jFJJony0EP9g"
   },
   "outputs": [],
   "source": []
  }
 ],
 "metadata": {
  "anaconda-cloud": {},
  "colab": {
   "provenance": []
  },
  "kernelspec": {
   "display_name": "Python 3 (ipykernel)",
   "language": "python",
   "name": "python3"
  },
  "language_info": {
   "codemirror_mode": {
    "name": "ipython",
    "version": 3
   },
   "file_extension": ".py",
   "mimetype": "text/x-python",
   "name": "python",
   "nbconvert_exporter": "python",
   "pygments_lexer": "ipython3",
   "version": "3.10.9"
  }
 },
 "nbformat": 4,
 "nbformat_minor": 4
}
