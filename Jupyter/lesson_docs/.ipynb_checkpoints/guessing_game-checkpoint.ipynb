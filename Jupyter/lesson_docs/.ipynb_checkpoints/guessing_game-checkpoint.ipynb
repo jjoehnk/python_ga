{
 "cells": [
  {
   "cell_type": "markdown",
   "id": "5bc191f7-083f-43c1-a607-dc4a610225c9",
   "metadata": {},
   "source": [
    "# Guessing Game"
   ]
  },
  {
   "cell_type": "code",
   "execution_count": null,
   "id": "d6ad18d9-e245-4169-8891-6c0a37a21815",
   "metadata": {},
   "outputs": [],
   "source": [
    "import random\n",
    "\n",
    "number = random.randint(1, 9)\n",
    "guess = input('Guess a number between 1 and 10: ')\n",
    "guess_count = 0\n",
    "\n",
    "while guess != 'exit':  \n",
    "    if int(guess) > number:\n",
    "        guess_count += 1\n",
    "        print('Too high! Try again! You have made ' + str(guess_count) + ' guesses.')\n",
    "        guess = input('Guess a number between 1 and 10: ')\n",
    "    elif int(guess) < number:\n",
    "        guess_count += 1\n",
    "        print('Too low! Try again! You have made ' + str(guess_count) + ' guesses.')\n",
    "        guess = input('Guess a number between 1 and 10: ')\n",
    "    else:\n",
    "        guess_count += 1\n",
    "        break \n",
    "\n",
    "print('You\\'re psychic! And that only took you....' + str(guess_count) + ' guesses.')\n",
    "\n"
   ]
  },
  {
   "cell_type": "markdown",
   "id": "a579f9a0-2c8c-454c-ab9b-3645d8e58a45",
   "metadata": {},
   "source": [
    "##### "
   ]
  }
 ],
 "metadata": {
  "kernelspec": {
   "display_name": "Python 3 (ipykernel)",
   "language": "python",
   "name": "python3"
  },
  "language_info": {
   "codemirror_mode": {
    "name": "ipython",
    "version": 3
   },
   "file_extension": ".py",
   "mimetype": "text/x-python",
   "name": "python",
   "nbconvert_exporter": "python",
   "pygments_lexer": "ipython3",
   "version": "3.10.9"
  }
 },
 "nbformat": 4,
 "nbformat_minor": 5
}
