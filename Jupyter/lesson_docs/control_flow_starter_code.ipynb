{
 "cells": [
  {
   "cell_type": "markdown",
   "metadata": {
    "id": "ZJpzEWQhR6K5"
   },
   "source": [
    "<img src=\"http://imgur.com/1ZcRyrc.png\" style=\"float: left; margin: 20px; height: 55px\">\n",
    "\n",
    "# Introduction to Python: Part Two\n",
    "\n",
    "_Authors: Kiefer Katovich (San Francisco), Dave Yerrington (San Francisco), Joseph Nelson (Washington, D.C.), Sam Stack (Washington, D.C.)_\n",
    "\n",
    "---"
   ]
  },
  {
   "cell_type": "markdown",
   "metadata": {
    "id": "JLavI7HCR6K8"
   },
   "source": [
    "\n",
    "### Learning Objectives\n",
    " \n",
    "#### Part Two: Python Iterations, Control Flow, and Functions\n",
    "**After this lesson, you will be able to:**\n",
    "- Understand `Python` control flow and conditional programming.  \n",
    "- Implement `for` and `while` loops to iterate through data structures.\n",
    "- Apply `if… else` conditional statements.\n",
    "- Create functions to perform repetitive actions.\n",
    "- Demonstrate error handling using `try, except` statements.\n",
    "- Combine control flow and conditional statements to solve the classic \"FizzBuzz\" code challenge.\n",
    "- Use `Python` control flow and functions to help us parse, clean, edit, and analyze the Coffee Preferences data set.\n",
    "---"
   ]
  },
  {
   "cell_type": "markdown",
   "metadata": {
    "id": "EDWUxnBLR6K9"
   },
   "source": [
    "### Lesson Guide\n",
    "\n",
    "#### [Part 2: Python Iterations, Control Flow, and Functions](#py_i)\n",
    "- [`if… else` Statements](#if_else_statements)\n",
    "- [Iterating With `for` Loops](#for_loops)\n",
    "- [FizzBuzz](#fizz_buzz)\n",
    "- [`while` Loops](#while_loops)\n",
    "- [Try/except blocks](#errors)\n",
    "- [Practice Control Flow on the Coffee Preference Data Set](#coffee_preference)\n",
    "- [Conclusion](#conclusion)\n",
    "----"
   ]
  },
  {
   "cell_type": "markdown",
   "metadata": {
    "id": "oOK5VHyvR6K9"
   },
   "source": [
    "<a id='py_i'></a>\n",
    "## Part 2: Python Iterations, Control Flow, and Functions\n",
    "\n",
    "We've gone over how data can exist within the Python language. Now, let's look at the core ways of interacting with it.\n",
    "\n",
    "- `if… elif… else` statements.\n",
    "- `for` and `while` loops.\n",
    "- Error handling with `try` and `except`.\n",
    "- Functions.\n"
   ]
  },
  {
   "cell_type": "markdown",
   "metadata": {
    "id": "7WoivlDxR6K-"
   },
   "source": [
    "## Comparison Operators\n",
    "\n",
    "Conditional logic allows you to control the flow of programs to create vastly more complex ones. So far, we can write programs that execute in a completely straightforward fashion. Conditionals allow our programs to start making logical decisions based on specific comparisons of input.\n",
    "\n",
    "First, we’ll need comparison operators — a set of operators that give you the ability to compare values and return a Boolean result (true or false). These are the ones we'll use in Python:\n",
    "\n",
    "|     Comparison Operator    |              Meaning            |\n",
    "|:--------------------------:|:-------------------------------:|\n",
    "|              >             |           Greater than          |\n",
    "|              >=            |     Greater than or equal to    |\n",
    "|              <             |             Less than           |\n",
    "|              <=            |       Less than or equal to     |\n",
    "|              ==            |             Equality            |\n",
    "|              !=            |            Inequality           |"
   ]
  },
  {
   "cell_type": "markdown",
   "metadata": {
    "id": "McrMTrRcR6K-"
   },
   "source": [
    "<a id='if_else_statements'></a>\n",
    "\n",
    "# `if… else` Statements\n",
    "\n",
    "---\n",
    "\n",
    "In Python, **indentation matters**! This is especially true when we look at the control structures in this lesson. In each case, a block of indented code is only sometimes run. There will always be a condition in the line preceding the indented block that determines whether the indented code is run or skipped.\n",
    "\n",
    "#### `if` Statement\n",
    "\n",
    "The simplest example of a control structure is the `if` statement."
   ]
  },
  {
   "cell_type": "code",
   "execution_count": null,
   "metadata": {
    "id": "S-gyHFAER6K_"
   },
   "outputs": [],
   "source": [
    "if False: \n",
    "    #this code is owned by if\n",
    "    print('it false')\n",
    "\n",
    "print('this will always run')"
   ]
  },
  {
   "cell_type": "code",
   "execution_count": 2,
   "metadata": {
    "id": "F-sGlYUPR6K_",
    "tags": []
   },
   "outputs": [
    {
     "name": "stdout",
     "output_type": "stream",
     "text": [
      "The integer 1 is equal to the integer 1\n",
      "Will the next indented line run too?\n",
      "hello\n",
      "first level of indent or no indent\n"
     ]
    }
   ],
   "source": [
    "if True: #if #1\n",
    "    if 1 == 1: #True\n",
    "        print('The integer 1 is equal to the integer 1')\n",
    "        print('Will the next indented line run too?')\n",
    "        if 1 == 2: \n",
    "            print('blah')\n",
    "            \n",
    "    print('hello')\n",
    "print('first level of indent or no indent')   "
   ]
  },
  {
   "cell_type": "markdown",
   "metadata": {
    "id": "rheWSiEaR6K_"
   },
   "source": [
    "Notice that, in Python, the line before every indented block must end with a colon (`:`). In fact, it turns out that the `if` statement has a very specific syntax.\n",
    "\n",
    "```if <expression>:\n",
    "    <one or more indented lines>```\n",
    "\n",
    "When the `if` statement is run, the expression is evaluated to `True` or `False` by applying the built-in `bool()` function to it. If the expression evaluates to `True`, the code block is run; otherwise, it is skipped.\n",
    "\n",
    "#### `if` ... `else`\n",
    "\n",
    "In many cases, you may want to run some code if the expression evaluates to `True` and some different code if it evaluates to `False`. This is done using `else`. Note how it is at the same indentation level as the `if` statement, followed by a colon, followed by a code block. Let's see it in action."
   ]
  },
  {
   "cell_type": "code",
   "execution_count": 5,
   "metadata": {
    "id": "nxcoJEu5R6LA",
    "tags": []
   },
   "outputs": [
    {
     "name": "stdout",
     "output_type": "stream",
     "text": [
      "the strings are !=\n",
      "---\n",
      "This will always run\n"
     ]
    }
   ],
   "source": [
    "if 'one' != 'two':\n",
    "    print('the strings are !=')\n",
    "    \n",
    "print('---')\n",
    "print('This will always run')"
   ]
  },
  {
   "cell_type": "markdown",
   "metadata": {
    "id": "GmGs5j2uR6LA"
   },
   "source": [
    "#### `if` ... `elif` ... `else`\n",
    "\n",
    "Sometimes, you might want to run one specific code block out of several. For example, perhaps we provide the user with three choices and want something different to happen with each one.\n",
    "\n",
    "`elif` stands for `else if`. It belongs on a line between the initial `if` statement and an (optional) `else`. "
   ]
  },
  {
   "cell_type": "code",
   "execution_count": 8,
   "metadata": {
    "id": "B7yHxAMOR6LA",
    "tags": []
   },
   "outputs": [
    {
     "name": "stdout",
     "output_type": "stream",
     "text": [
      "50 >= 30\n",
      "The else block was run instead of the if block\n",
      "---\n",
      "This will always run\n"
     ]
    }
   ],
   "source": [
    "if 50 < 30:\n",
    "    print(\"50 < 30\")\n",
    "else:\n",
    "    print(\"50 >= 30\")\n",
    "    print('The else block was run instead of the if block')\n",
    "    \n",
    "print('---')\n",
    "print('This will always run')"
   ]
  },
  {
   "cell_type": "code",
   "execution_count": 12,
   "metadata": {
    "tags": []
   },
   "outputs": [
    {
     "name": "stdout",
     "output_type": "stream",
     "text": [
      "Your health is average\n",
      "---\n",
      "This will always run\n"
     ]
    }
   ],
   "source": [
    "health = 55\n",
    "\n",
    "if health > 70:\n",
    "    print('You are in great health!')\n",
    "\n",
    "elif health > 40:\n",
    "    print('Your health is average')\n",
    "    \n",
    "else:\n",
    "    print('Your health is low')\n",
    "    \n",
    "print('---')\n",
    "print('This will always run')"
   ]
  },
  {
   "cell_type": "markdown",
   "metadata": {
    "id": "W9RAL0voR6LA"
   },
   "source": [
    "This code works by evaluating each condition in order. If a condition evaluates to `True`, the rest are skipped.\n",
    "\n",
    "**Let's walk through the code.** First, we let `health = 55`. We move to the next line at the same indentation level — the `if`. We evaluate `health > 70` to be `False`, so its code block is skipped. Next, the interpreter moves to the next line at the same outer indentation level, which happens to be the `elif`. It evaluates its expression, `health > 40`, to be `True`, so its code block is run. Now, because a code block was run, the rest of the `if` statement is skipped."
   ]
  },
  {
   "cell_type": "markdown",
   "metadata": {
    "id": "1w_8DqwgR6LB"
   },
   "source": [
    "### 1) Write an `if… else` statement to check whether or not the suitcase weighs more than 50 pounds.\n",
    "\n",
    "Print a message indicating whether or not the suitcase weighs more than 50 pounds."
   ]
  },
  {
   "cell_type": "code",
   "execution_count": 19,
   "metadata": {
    "id": "FOakuyQyR6LB",
    "tags": []
   },
   "outputs": [
    {
     "name": "stdin",
     "output_type": "stream",
     "text": [
      "How many pounds does your suitcase weigh?  40\n"
     ]
    }
   ],
   "source": [
    "weight = float(input('How many pounds does your suitcase weigh? '))"
   ]
  },
  {
   "cell_type": "code",
   "execution_count": 20,
   "metadata": {
    "id": "UMv__bTUR6LB",
    "tags": []
   },
   "outputs": [
    {
     "name": "stdout",
     "output_type": "stream",
     "text": [
      "Light as a feather\n"
     ]
    }
   ],
   "source": [
    "if weight > 50:\n",
    "    print('TOO HEAVY')\n",
    "\n",
    "elif weight <=50:\n",
    "    print('Light as a feather')\n",
    "    \n",
    "else:\n",
    "    print('Invalid Input')\n",
    "    "
   ]
  },
  {
   "cell_type": "code",
   "execution_count": null,
   "metadata": {
    "id": "ESgsoEQ-R6LB"
   },
   "outputs": [],
   "source": [
    " \n"
   ]
  },
  {
   "cell_type": "markdown",
   "metadata": {
    "id": "lgKfMb8SR6LC"
   },
   "source": [
    "---\n",
    "\n",
    "### 2) Write an `if… else` statement for multiple conditions.\n",
    "\n",
    "Print out these recommendations based on the weather conditions:\n",
    "\n",
    "1. The temperature is higher than 60 degrees **AND** it is raining: Bring an umbrella.\n",
    "2. The temperature is lower than or equal to 60 degrees **AND** it is raining: Bring an umbrella and a jacket.\n",
    "3. The temperature is higher than 60 degrees **AND** the sun is shining: Wear a T-shirt.\n",
    "4. The temperature is lower than or equal to 60 degrees **AND** the sun is shining: Bring a jacket."
   ]
  },
  {
   "cell_type": "code",
   "execution_count": 24,
   "metadata": {
    "id": "I0C77yfeR6LC",
    "tags": []
   },
   "outputs": [
    {
     "name": "stdin",
     "output_type": "stream",
     "text": [
      "What is the temperature today? (F) 40\n",
      "What is the weather like? (Rainy/Sunny) Sunny\n"
     ]
    },
    {
     "name": "stdout",
     "output_type": "stream",
     "text": [
      "Bring a jacket\n"
     ]
    }
   ],
   "source": [
    "# acceptable first pass but we can do better!\n",
    "temp = float(input('What is the temperature today? (F)'))\n",
    "weather = input('What is the weather like? (Rainy/Sunny)')\n",
    "\n",
    "if temp > 60:\n",
    "    if weather == 'Rainy':\n",
    "        print('Bring an umbrella.')\n",
    "    elif weather == 'Sunny':\n",
    "        print('Wear a T-Shirt')\n",
    "    else:\n",
    "        print(weather, 'is not a valid input top')\n",
    "else:\n",
    "    if weather == 'Rainy':\n",
    "        print('Bring an umbrella and a jacket.')\n",
    "    elif weather == 'Sunny':\n",
    "        print('Bring a jacket')\n",
    "    else: \n",
    "        print(weather, 'is not a valid input bottom')"
   ]
  },
  {
   "cell_type": "code",
   "execution_count": 25,
   "metadata": {
    "tags": []
   },
   "outputs": [
    {
     "name": "stdin",
     "output_type": "stream",
     "text": [
      "What is the temperature today? (F) 40\n",
      "What is the weather like? (Rainy/Sunny) rainasdlj\n"
     ]
    },
    {
     "name": "stdout",
     "output_type": "stream",
     "text": [
      "rainasdlj is not a valid input\n"
     ]
    }
   ],
   "source": [
    "temp = float(input('What is the temperature today? (F)'))\n",
    "weather = input('What is the weather like? (Rainy/Sunny)')\n",
    "\n",
    "if temp > 60 and weather == 'Rainy':\n",
    "        print('Bring an umbrella.')\n",
    "elif temp > 60 and weather == 'Sunny':\n",
    "        print('Wear a T-Shirt')\n",
    "elif temp <= 60 and weather == 'Rainy':\n",
    "        print('Bring an umbrella and a jacket.')\n",
    "elif temp <= 60 and weather == 'Sunny':\n",
    "        pprint('Bring a jacket')\n",
    "else:\n",
    "    print(weather, 'is not a valid input')"
   ]
  },
  {
   "cell_type": "markdown",
   "metadata": {
    "id": "NeSNzZwxR6LC"
   },
   "source": [
    "There are two ways to approach this problem! \n",
    "\n",
    "**Nesting Conditionals:** You can include a conditional inside of another if you want to check multiple condition. This way, we only check the “bank_account” variable IF our first condition is also met. \n"
   ]
  },
  {
   "cell_type": "code",
   "execution_count": null,
   "metadata": {
    "id": "2sAzRY3QR6LC"
   },
   "outputs": [],
   "source": []
  },
  {
   "cell_type": "markdown",
   "metadata": {
    "id": "oZvO18o2R6LC"
   },
   "source": [
    "However, this can get a bit messy; for this simple situation, it isn't worth having more indented blocks just to add one condition. So, what's the alternative?\n",
    "\n",
    "**Multiple Conditions, One Statement:** You can check to see if two conditions are met in one statement with a logic operator! \n",
    "\n",
    "**Logic operators** allow us to combine multiple conditions together. For very complex conditionals, you can put several conditions in parentheses to evaluate them as a single expression.\n",
    "\n",
    "|     Operator    |                             Description                            |\n",
    "|:---------------:|:------------------------------------------------------------------:|\n",
    "|        and      |     Evaluates to true   only if all combined values are true.      |\n",
    "|        or       |     Evaluates to true   if any of the combined values are true.    |\n",
    "|      not / !    |     Reverses the Boolean result of whatever   follows it.          |"
   ]
  },
  {
   "cell_type": "code",
   "execution_count": null,
   "metadata": {
    "id": "aaoBWQVoR6LD"
   },
   "outputs": [],
   "source": []
  },
  {
   "cell_type": "markdown",
   "metadata": {
    "id": "hRRUDYX0R6LD"
   },
   "source": [
    "Pro Tip: Condensing Conditionals \n",
    "    \n",
    "Not all conditionals need a comparison statement — especially if the values being tested are already Booleans.\n",
    "\n",
    "Thus, you will rarely see a comparison with `== true` or `!== false`. Instead, you can use the following pattern:\n",
    "\n",
    "```python\n",
    "product_is_good = True\n",
    "product_is_too_expensive = False\n",
    "\n",
    "if product_is_good and not product_is_too_expensive:\n",
    "  # do something\n",
    "```"
   ]
  },
  {
   "cell_type": "markdown",
   "metadata": {
    "id": "4wU0U4kVR6LD"
   },
   "source": [
    "**Pop quiz!** For each of the following questions, determine whether they're true or false:\n",
    "\n",
    "1. 15 > 10 and 25 > 30\n",
    "2. len(\"apples\") > 5 or len(\"orange\") < 2\n",
    "3. ( 5 > 10 and 10 > 15 ) or \"orange\" == \"orange\"\n",
    "4. \"bananas\" not in [\"oranges\", \"apples\"] and len(\"bananas\") < 10\n",
    "5. 2 + 2 != 4 and 2 + 2 == 5\n"
   ]
  },
  {
   "cell_type": "markdown",
   "metadata": {
    "id": "4gXSwdrOR6LD"
   },
   "source": [
    "---\n",
    "\n",
    "### 2) Write an `if… else` statement for multiple conditions.\n",
    "\n",
    "Print out these recommendations based on the weather conditions:\n",
    "\n",
    "1. The temperature is higher than 60 degrees **AND** it is raining: Bring an umbrella.\n",
    "2. The temperature is lower than or equal to 60 degrees **AND** it is raining: Bring an umbrella and a jacket.\n",
    "3. The temperature is higher than 60 degrees **AND** the sun is shining: Wear a T-shirt.\n",
    "4. The temperature is lower than or equal to 60 degrees **AND** the sun is shining: Bring a jacket."
   ]
  },
  {
   "cell_type": "code",
   "execution_count": null,
   "metadata": {
    "id": "2Z6rvXj9R6LD",
    "outputId": "90e986b6-1991-44ee-fc83-eaac94d454e7"
   },
   "outputs": [
    {
     "name": "stdin",
     "output_type": "stream",
     "text": [
      "What is the temperature (F)?  55\n",
      "What is the weather (rain or shine)?  shine\n"
     ]
    }
   ],
   "source": [
    "temperature = float(input('What is the temperature (F)? '))\n",
    "weather = input('What is the weather (rain or shine)? ')"
   ]
  },
  {
   "cell_type": "markdown",
   "metadata": {
    "id": "Ii4LsdlsR6LE"
   },
   "source": [
    "There are two ways to approach this problem! \n",
    "\n",
    "**Nesting Conditionals:** You can include a conditional inside of another if you want to check multiple condition. This way, we only check the `weather` variable IF our first condition is also met. \n"
   ]
  },
  {
   "cell_type": "code",
   "execution_count": null,
   "metadata": {
    "id": "OVkUE4_VR6LE",
    "outputId": "7d24eca8-c0c9-4b39-db84-53db66b87a70"
   },
   "outputs": [
    {
     "name": "stdout",
     "output_type": "stream",
     "text": [
      "bring a jacket\n"
     ]
    }
   ],
   "source": [
    "if temperature > 60:\n",
    "    if weather == 'rain':\n",
    "        print('bring an umbrella')\n",
    "    elif weather == 'shine':\n",
    "        print('wear a t-shirt')\n",
    "else:\n",
    "    if weather == 'rain':\n",
    "        print('bring an umbrella and a jacket')\n",
    "    else:\n",
    "        print('bring a jacket')"
   ]
  },
  {
   "cell_type": "markdown",
   "metadata": {
    "id": "jibUSzBBR6LE"
   },
   "source": [
    "However, this can get a bit messy; for this simple situation, it isn't worth having more indented blocks just to add one condition. So, what's the alternative?\n",
    "\n",
    "**Multiple Conditions, One Statement:** You can check to see if two conditions are met in one statement with a logic operator! \n",
    "\n",
    "**Logic operators** allow us to combine multiple conditions together. For very complex conditionals, you can put several conditions in parentheses to evaluate them as a single expression.\n",
    "\n",
    "|     Operator    |                             Description                            |\n",
    "|:---------------:|:------------------------------------------------------------------:|\n",
    "|        and      |     Evaluates to true   only if all combined values are true.      |\n",
    "|        or       |     Evaluates to true   if any of the combined values are true.    |\n",
    "|      not / !    |     Reverses the Boolean result of whatever   follows it.          |"
   ]
  },
  {
   "cell_type": "code",
   "execution_count": null,
   "metadata": {
    "id": "1s3eyjULR6LF"
   },
   "outputs": [],
   "source": []
  },
  {
   "cell_type": "markdown",
   "metadata": {
    "id": "KbJRdWZvR6LF"
   },
   "source": [
    "Pro Tip: Condensing Conditionals \n",
    "    \n",
    "Not all conditionals need a comparison statement — especially if the values being tested are already Booleans.\n",
    "\n",
    "Thus, you will rarely see a comparison with `== true` or `!== false`. Instead, you can use the following pattern:\n",
    "\n",
    "```python\n",
    "product_is_good = True\n",
    "product_is_too_expensive = False\n",
    "\n",
    "if product_is_good and not product_is_too_expensive:\n",
    "  # do something\n",
    "```"
   ]
  },
  {
   "cell_type": "markdown",
   "metadata": {
    "id": "VbEMAqB4R6LF"
   },
   "source": [
    "---\n",
    "<a id='for_loops'></a>\n",
    "# `for` Loops\n",
    "\n",
    "\n",
    "One of the primary purposes of using a programming language is to automate repetitive tasks. One such means in Python is the `for` loop.\n",
    "\n",
    "The `for` loop allows you to perform a task repeatedly on every element within an object, such as every name in a list.\n",
    "\n",
    "\n",
    "Let's see how the pseudocode works:\n",
    "\n",
    "```python\n",
    "# For each individual object in the list\n",
    "    # perform task_A on said object.\n",
    "    # Once task_A has been completed, move to next object in the list.\n",
    "```\n",
    "\n",
    "Let's say we wanted to print each of the names in the list, as well as \"is Awesome!\""
   ]
  },
  {
   "cell_type": "code",
   "execution_count": 29,
   "metadata": {
    "id": "r4cefGo9R6LF",
    "tags": []
   },
   "outputs": [
    {
     "name": "stdout",
     "output_type": "stream",
     "text": [
      "Roman is awesome!\n",
      "Tristan is awesome!\n",
      "Nidhi is awesome!\n"
     ]
    }
   ],
   "source": [
    "names = ['Roman', 'Tristan', 'Nidhi']\n",
    "\n",
    "for x in names:\n",
    "    print(x, 'is awesome!')"
   ]
  },
  {
   "cell_type": "markdown",
   "metadata": {
    "id": "OYFrqA4bR6LF"
   },
   "source": [
    "This process of cycling through a list item by item is known as \"iteration.\" "
   ]
  },
  {
   "cell_type": "code",
   "execution_count": 31,
   "metadata": {
    "tags": []
   },
   "outputs": [
    {
     "name": "stdout",
     "output_type": "stream",
     "text": [
      "0\n",
      "1\n",
      "2\n",
      "3\n",
      "4\n",
      "5\n",
      "6\n",
      "7\n",
      "8\n",
      "9\n"
     ]
    }
   ],
   "source": [
    "#range(start,stop,step)\n",
    "#list[start,stop,step]\n",
    "\n",
    "#list(range(0,10))\n",
    "\n",
    "for i in range(0,10):\n",
    "    print(i)"
   ]
  },
  {
   "cell_type": "code",
   "execution_count": 34,
   "metadata": {
    "tags": []
   },
   "outputs": [
    {
     "name": "stdout",
     "output_type": "stream",
     "text": [
      "Roman is awesome!\n",
      "Tristan is awesome!\n",
      "Nidhi is awesome!\n"
     ]
    }
   ],
   "source": [
    "for i in range(len(names)):\n",
    "    print(names[i], 'is awesome!')"
   ]
  },
  {
   "cell_type": "code",
   "execution_count": 35,
   "metadata": {
    "tags": []
   },
   "outputs": [
    {
     "name": "stdout",
     "output_type": "stream",
     "text": [
      "hello world\n"
     ]
    }
   ],
   "source": [
    "print('hello world')"
   ]
  },
  {
   "cell_type": "markdown",
   "metadata": {
    "id": "xzxGc9KHR6LF"
   },
   "source": [
    "---\n",
    "\n",
    "### 3) Write a `for` loop that iterates from number 1 to number 15.\n",
    "\n",
    "On each iteration, print out the number.  \n"
   ]
  },
  {
   "cell_type": "code",
   "execution_count": 38,
   "metadata": {
    "id": "1tyf3VuXR6LF",
    "tags": []
   },
   "outputs": [
    {
     "name": "stdout",
     "output_type": "stream",
     "text": [
      "Interation: 0\n",
      "Interation: 1\n",
      "Interation: 2\n",
      "Interation: 3\n",
      "Interation: 4\n",
      "Interation: 5\n",
      "Interation: 6\n",
      "Interation: 7\n",
      "Interation: 8\n",
      "Interation: 9\n",
      "Interation: 10\n",
      "Interation: 11\n",
      "Interation: 12\n",
      "Interation: 13\n",
      "Interation: 14\n",
      "Interation: 15\n"
     ]
    }
   ],
   "source": [
    "for i in range(0, 16):\n",
    "    print(f'Interation: {i}')"
   ]
  },
  {
   "cell_type": "code",
   "execution_count": null,
   "metadata": {
    "id": "YDlzDW3nR6LF"
   },
   "outputs": [],
   "source": []
  },
  {
   "cell_type": "markdown",
   "metadata": {
    "id": "BGyna_mER6LF"
   },
   "source": [
    "---\n",
    "\n",
    "### 4) Iterate from 1 to 15, printing whether the number is odd or even.\n",
    "\n",
    "Hint: The modulus operator, `%`, can be used to take the remainder. For example:\n",
    "\n",
    "```python\n",
    "9 % 5 == 4\n",
    "```\n",
    "\n",
    "Or, in other words, the remainder of dividing 9 by 5 is 4."
   ]
  },
  {
   "cell_type": "code",
   "execution_count": 47,
   "metadata": {
    "id": "AlFRPRV7R6LG",
    "tags": []
   },
   "outputs": [
    {
     "name": "stdout",
     "output_type": "stream",
     "text": [
      "0 is even\n",
      "1 is odd\n",
      "2 is even\n",
      "3 is odd\n",
      "4 is even\n",
      "5 is odd\n",
      "6 is even\n",
      "7 is odd\n",
      "8 is even\n",
      "9 is odd\n",
      "10 is even\n",
      "11 is odd\n",
      "12 is even\n",
      "13 is odd\n",
      "14 is even\n",
      "15 is odd\n"
     ]
    }
   ],
   "source": [
    "for i in list(range(0, 16)):\n",
    "    if i%2 == 0:\n",
    "        print(f'{i} is even')\n",
    "    else:\n",
    "        print(f'{i} is odd')"
   ]
  },
  {
   "cell_type": "markdown",
   "metadata": {
    "id": "IkaNoFFzR6LG"
   },
   "source": [
    "---\n",
    "<a id='fizz_buzz'></a>\n",
    "### 5) Iterate from 1 to 30 using the following instructions:\n",
    "\n",
    "1) If a number is divisible by 3, print \"fizz.\"\n",
    "2) If a number is divisible by 5, print \"buzz.\" \n",
    "3) If a number is both divisible by 3 and by 5, print \"fizzbuzz.\"\n",
    "4) Otherwise, print just the number."
   ]
  },
  {
   "cell_type": "code",
   "execution_count": 51,
   "metadata": {
    "id": "vqtD2Tc0R6LG",
    "tags": []
   },
   "outputs": [
    {
     "name": "stdout",
     "output_type": "stream",
     "text": [
      "1\n",
      "2\n",
      "fizz\n",
      "4\n",
      "buzz\n",
      "fizz\n",
      "7\n",
      "8\n",
      "fizz\n",
      "buzz\n",
      "11\n",
      "fizz\n",
      "13\n",
      "14\n",
      "fizzbuzz\n",
      "16\n",
      "17\n",
      "fizz\n",
      "19\n",
      "buzz\n",
      "fizz\n",
      "22\n",
      "23\n",
      "fizz\n",
      "buzz\n",
      "26\n",
      "fizz\n",
      "28\n",
      "29\n",
      "fizzbuzz\n"
     ]
    }
   ],
   "source": [
    "for i in list(range(1, 31)):\n",
    "    if i%5 == 0 and i%3 == 0:\n",
    "        print('fizzbuzz')\n",
    "    elif i%5 == 0:\n",
    "        print('buzz')\n",
    "    elif i%3 == 0:\n",
    "        print('fizz')\n",
    "    else: \n",
    "        print(i)"
   ]
  },
  {
   "cell_type": "code",
   "execution_count": null,
   "metadata": {},
   "outputs": [],
   "source": []
  },
  {
   "cell_type": "markdown",
   "metadata": {
    "id": "zzYWPzhPR6LG"
   },
   "source": [
    "Remember this example. FizzBuzz is a common coding challenge. It is relatively easy to solve, but those who ask are always looking for more creative ways to solve or optimize it."
   ]
  },
  {
   "cell_type": "markdown",
   "metadata": {
    "id": "Aq4TAC-QR6LG"
   },
   "source": [
    "---\n",
    "\n",
    "### 6) Iterate through the following list of animals and print each one in all caps."
   ]
  },
  {
   "cell_type": "code",
   "execution_count": 146,
   "metadata": {
    "id": "oJ2qcEA9R6LG",
    "tags": []
   },
   "outputs": [],
   "source": [
    "animals = ['duck', 'rat', 'boar', 'slug', 'mammoth', 'gazelle']"
   ]
  },
  {
   "cell_type": "code",
   "execution_count": 59,
   "metadata": {
    "id": "3Grsb9KqR6LG",
    "tags": []
   },
   "outputs": [
    {
     "name": "stdout",
     "output_type": "stream",
     "text": [
      "DUCK\n",
      "RAT\n",
      "BOAR\n",
      "SLUG\n",
      "MAMMOTH\n",
      "GAZELLE\n"
     ]
    }
   ],
   "source": [
    "for animal in animals:\n",
    "    print(animal.upper())"
   ]
  },
  {
   "cell_type": "markdown",
   "metadata": {
    "id": "Gn-D_f18R6LG"
   },
   "source": [
    "---\n",
    "\n",
    "### 7) Iterate through the animals list. Capitalize the first letter and append the modified animals to a new list."
   ]
  },
  {
   "cell_type": "code",
   "execution_count": 105,
   "metadata": {
    "id": "WtVdfjrSR6LH",
    "tags": []
   },
   "outputs": [],
   "source": [
    " animals = ['duck', 'rat', 'boar', 'slug', 'mammoth', 'gazelle']\n"
   ]
  },
  {
   "cell_type": "code",
   "execution_count": 66,
   "metadata": {
    "id": "CO2ka2GOR6LH",
    "tags": []
   },
   "outputs": [
    {
     "name": "stdout",
     "output_type": "stream",
     "text": [
      "['Duck', 'Rat', 'Boar', 'Slug', 'Mammoth', 'Gazelle']\n"
     ]
    }
   ],
   "source": [
    "cap_animals = []\n",
    "for animal in animals:\n",
    "    cap_animal = (animal[0].upper()+animal[1:])\n",
    "    cap_animals.append(cap_animal)\n",
    "    \n",
    "print(cap_animals)"
   ]
  },
  {
   "cell_type": "code",
   "execution_count": 72,
   "metadata": {
    "tags": []
   },
   "outputs": [
    {
     "name": "stdout",
     "output_type": "stream",
     "text": [
      "['Duck', 'Rat', 'Boar', 'Slug', 'Mammoth', 'Gazelle']\n"
     ]
    }
   ],
   "source": [
    "#[object.action for iterator in iterable] ---> list comps\n",
    "cap_animals = [a.capitalize () for a in animals]"
   ]
  },
  {
   "cell_type": "markdown",
   "metadata": {
    "id": "Aw9xZSvUR6LH"
   },
   "source": [
    "---\n",
    "\n",
    "### 8) Iterate through the animals. Print out the animal name and the number of vowels in the name.\n",
    "Hint: You may need to create a variable of vowels for comparison."
   ]
  },
  {
   "cell_type": "code",
   "execution_count": 84,
   "metadata": {
    "id": "_H7OwgDiR6LH",
    "tags": []
   },
   "outputs": [
    {
     "name": "stdout",
     "output_type": "stream",
     "text": [
      "duck 1\n",
      "rat 1\n",
      "boar 2\n",
      "slug 1\n",
      "mammoth 2\n",
      "gazelle 3\n"
     ]
    }
   ],
   "source": [
    "import re\n",
    "\n",
    "vowels = 'aeiou'\n",
    "\n",
    "for animal in animals: #list containing iterables of names of animals (list)\n",
    "    vowel_counter = 0\n",
    "    for letter in animal:\n",
    "        if letter in vowels:\n",
    "            vowel_counter += 1\n",
    "    print('{} {}'.format(animal, vowel_counter))\n"
   ]
  },
  {
   "cell_type": "markdown",
   "metadata": {
    "id": "mJIux6ZjR6LH"
   },
   "source": [
    "---\n",
    "## List Comprehension\n",
    "\n",
    "\n",
    "The way we've been working with for loops works fine, but in Python there's a way to do this more succinctly using list comprehension. Listcomps are also optimized in Python, meaning they are also often the fastest way to solve a problem."
   ]
  },
  {
   "cell_type": "markdown",
   "metadata": {
    "id": "BS9pRwmYR6LH"
   },
   "source": [
    "Syntax to create a list for a **'for' loop**:  \n",
    "```python\n",
    "new_things = []\n",
    "for ITEM in old_things:\n",
    "    if condition_based_on(ITEM):\n",
    "        new_things.append(\"something with \" + ITEM)\n",
    "```    \n",
    "\n",
    "Syntax for creating a list with **list comprehension**:  \n",
    "\n",
    "```python\n",
    "new_things = [\"something with \" + ITEM for ITEM in old_things if condition_based_on(ITEM)]\n",
    "```\n",
    "\n",
    "<details>\n",
    "    <summary><strong>Example:</strong></summary>  \n",
    "\n",
    "![](https://treyhunner.com/images/list-comprehension-condition.gif)\n",
    "</details>      \n",
    "\n",
    "Credit where credit is due - all of this examples above are taken from the (excellent!) post, [Python List Comprehensions: Explained Visually](https://treyhunner.com/2015/12/python-list-comprehensions-now-in-color/) by [Trey Hunter](https://treyhunner.com/)!"
   ]
  },
  {
   "cell_type": "markdown",
   "metadata": {
    "id": "i6dwbTXER6LH"
   },
   "source": [
    "Let's redo question 6 from above using a list comprehension:"
   ]
  },
  {
   "cell_type": "code",
   "execution_count": null,
   "metadata": {},
   "outputs": [],
   "source": [
    "cap_animals = []\n",
    "for animal in animals:\n",
    "    cap_animal = (animal[0].upper()+animal[1:])\n",
    "    cap_animals.append(cap_animal)\n",
    "    \n",
    "print(cap_animals)"
   ]
  },
  {
   "cell_type": "code",
   "execution_count": 87,
   "metadata": {
    "id": "zFo6arINR6LH",
    "tags": []
   },
   "outputs": [
    {
     "name": "stdout",
     "output_type": "stream",
     "text": [
      "['Duck', 'Rat', 'Boar', 'Slug', 'Mammoth', 'Gazelle']\n"
     ]
    }
   ],
   "source": [
    "cap_animals = [a.capitalize() for a in animals]\n",
    "\n",
    "print(cap_animals)"
   ]
  },
  {
   "cell_type": "markdown",
   "metadata": {
    "id": "IBYAuiR3R6LH"
   },
   "source": [
    "Note that you can loop through things other than lists!"
   ]
  },
  {
   "cell_type": "code",
   "execution_count": 89,
   "metadata": {
    "id": "9CLMFUG8R6LI",
    "tags": []
   },
   "outputs": [],
   "source": [
    "sentence = 'I love python programming!'\n"
   ]
  },
  {
   "cell_type": "markdown",
   "metadata": {
    "id": "LWe1Rk--R6LI"
   },
   "source": [
    "If we wanted to turn our sentence into a list, we could use a listcomp: "
   ]
  },
  {
   "cell_type": "code",
   "execution_count": 92,
   "metadata": {
    "id": "LGkHUNSmR6LI",
    "tags": []
   },
   "outputs": [
    {
     "data": {
      "text/plain": [
       "['o', 'e', 'o', 'o', 'a', 'i']"
      ]
     },
     "execution_count": 92,
     "metadata": {},
     "output_type": "execute_result"
    }
   ],
   "source": [
    "[letter for letter in sentence if letter in 'aeiou']\n",
    "#object.action iteration condition"
   ]
  },
  {
   "cell_type": "code",
   "execution_count": 169,
   "metadata": {
    "tags": []
   },
   "outputs": [
    {
     "name": "stdout",
     "output_type": "stream",
     "text": [
      "[]\n"
     ]
    }
   ],
   "source": [
    "vowels = 'aeiou'\n",
    "\n",
    "new_list = [(animal, enumerate(letter)) for animal in animals for letter in animal if letter == 'aeiou']\n",
    "print(new_list)"
   ]
  },
  {
   "cell_type": "code",
   "execution_count": 166,
   "metadata": {
    "tags": []
   },
   "outputs": [
    {
     "name": "stdout",
     "output_type": "stream",
     "text": [
      "Variable          Type        Data/Info\n",
      "---------------------------------------\n",
      "animal            str         gazelle\n",
      "animals           list        n=6\n",
      "cap_animal        str         Gazelle\n",
      "cap_animals       list        n=6\n",
      "char              str         R\n",
      "cleaned           list        n=4\n",
      "corrupted         list        n=10\n",
      "count             int         117\n",
      "devitters         int         30\n",
      "health            int         55\n",
      "i                 str         1000\n",
      "iterations        int         2778\n",
      "names             list        n=3\n",
      "re                module      <module 're' from '/home/<...>thon3.11/re/__init__.py'>\n",
      "sentence          str         A MAN KNOCKED ON MY DOOR <...>GAVE HIM A GLASS OF WATER\n",
      "suitcase_weight   NoneType    None\n",
      "temp              float       40.0\n",
      "to_fifteen        list        n=0\n",
      "values            str         R\n",
      "vowel_counter     int         0\n",
      "vowels            str         aeiou\n",
      "weather           str         rainasdlj\n",
      "weight            float       40.0\n",
      "x                 int         15\n"
     ]
    }
   ],
   "source": [
    "whos"
   ]
  },
  {
   "cell_type": "markdown",
   "metadata": {
    "id": "DatsQl9NR6LI"
   },
   "source": [
    "---\n",
    "<a id='while_loops'></a>\n",
    "# `while` Loops\n",
    "\n",
    "`while` loops are a different means of performing repetitive tasks/iteration. The function of a `for` loop is to perform tasks over a _finite list_. The function of a `while` loop is to perform a repetitive task until a _specific threshold or criteria point is met_. Keep in mind that this can be relatively dangerous, as it is easy to create a loop that never meets your criteria and runs forever.\n",
    "\n",
    "_We say \"list,\" but we're not just talking about a Python list data type. We're including any data type where information can be iterated through._\n",
    "\n",
    "Let's look at some pseudocode:\n",
    "\n",
    "```python\n",
    "# A threshold or criteria point is set.\n",
    "    # As long as the threshold or criteria point isn't met,\n",
    "    # perform a task.\n",
    "    # Check threshold/criteria point.\n",
    "        # If threshold/criteria point is met or exceeded,\n",
    "            # break loop.\n",
    "        # If not, repeat.\n",
    "    \n",
    "```\n",
    "\n",
    "An example of an infinite `while` loop:\n",
    "\n",
    "```python\n",
    "x = 0\n",
    "while x < 10:\n",
    "    print x\n",
    "```\n",
    "\n",
    "Because the value assigned to `x` never changes and always remains less than 10, this loop will print \"`x`\" infinitely until you force-kill the kernel. \n",
    "\n",
    "We can fix this infinity loop by including a incrementation for `x` within it.\n",
    "\n",
    "```python\n",
    "x = 0\n",
    "while x < 10:\n",
    "    print x\n",
    "    x = x+1\n",
    "```\n",
    "\n"
   ]
  },
  {
   "cell_type": "markdown",
   "metadata": {
    "id": "5WkpdbtfR6LI"
   },
   "source": [
    "### 9) Use `while` loops and strings.\n",
    "\n",
    "Iterate over the following sentence repeatedly, counting the number of vowels in the sentence until you have tallied one million. Print out the number of iterations it took to reach that amount."
   ]
  },
  {
   "cell_type": "code",
   "execution_count": 123,
   "metadata": {
    "id": "mPtzGx1oR6LI",
    "tags": []
   },
   "outputs": [],
   "source": [
    "sentence = \"A MAN KNOCKED ON MY DOOR AND ASKED FOR A SMALL DONATION TOWARDS THE LOCAL SWIMMING POOL SO I GAVE HIM A GLASS OF WATER\""
   ]
  },
  {
   "cell_type": "code",
   "execution_count": 125,
   "metadata": {
    "id": "M6IPNeuRR6LI",
    "tags": []
   },
   "outputs": [],
   "source": [
    "iterations = 0\n",
    "vowels = 0\n",
    "devitters = 30\n",
    "\n",
    "for i in range(devitters):\n",
    "    iterations += 1\n",
    "    for char in sentence:\n",
    "        if char.lower() in 'aeiou':\n",
    "            vowels += 1\n",
    "    if vowels >= 1000:\n",
    "        break"
   ]
  },
  {
   "cell_type": "code",
   "execution_count": 132,
   "metadata": {
    "id": "-M4osXVMR6LI",
    "tags": []
   },
   "outputs": [
    {
     "data": {
      "text/plain": [
       "(100008, 2778)"
      ]
     },
     "execution_count": 132,
     "metadata": {},
     "output_type": "execute_result"
    }
   ],
   "source": [
    "vowels, iterations"
   ]
  },
  {
   "cell_type": "code",
   "execution_count": 134,
   "metadata": {
    "tags": []
   },
   "outputs": [
    {
     "name": "stdout",
     "output_type": "stream",
     "text": [
      "iterations: 2778\n",
      "vowels observed: 100008\n"
     ]
    }
   ],
   "source": [
    "iterations = 0\n",
    "vowels = 0\n",
    "\n",
    "while True:\n",
    "    iterations += 1\n",
    "    for char in sentence:\n",
    "        if char.lower() in 'aeiou':\n",
    "            vowels += 1\n",
    "    if vowels >= 100000:\n",
    "        break\n",
    "        \n",
    "print(f'iterations: {iterations}')\n",
    "print(f'vowels observed: {vowels}')"
   ]
  },
  {
   "cell_type": "markdown",
   "metadata": {
    "id": "_PFWnx2uR6LI"
   },
   "source": [
    "---\n",
    "<a id='functions'></a>\n",
    "# `try` / `except`\n",
    "Sometimes, code throws a runtime error. For example, division by zero or using a keyword as a variable name."
   ]
  },
  {
   "cell_type": "code",
   "execution_count": null,
   "metadata": {
    "id": "45z8hSttR6LI"
   },
   "outputs": [],
   "source": [
    "try:\n",
    "    #block of code\n",
    "except:\n",
    "    #if first block fails, different block of code "
   ]
  },
  {
   "cell_type": "code",
   "execution_count": 138,
   "metadata": {
    "id": "cmz2LcR3R6LI",
    "tags": []
   },
   "outputs": [
    {
     "name": "stdout",
     "output_type": "stream",
     "text": [
      "you cannae do that\n",
      "20.0\n",
      "10.0\n",
      "6.666666666666667\n",
      "5.0\n",
      "4.0\n",
      "3.3333333333333335\n",
      "2.857142857142857\n",
      "2.5\n",
      "2.2222222222222223\n"
     ]
    }
   ],
   "source": [
    "for i in range(10):\n",
    "    try:\n",
    "        print(20/i)\n",
    "    except:    \n",
    "        print('you cannae do that')"
   ]
  },
  {
   "cell_type": "markdown",
   "metadata": {
    "id": "0EZxuIYrR6LJ"
   },
   "source": [
    "These errors are called **exceptions**. Exceptions are serious errors that are **thrown** when the computer cannot continue because the expression cannot be evaluated properly. For example:\n",
    "\n",
    "+ Using the addition operator to add a string and a non-string.\n",
    "+ Using an undefined name.\n",
    "+ Opening a file that does not exist."
   ]
  },
  {
   "cell_type": "markdown",
   "metadata": {
    "id": "kooTpbS1R6LJ"
   },
   "source": [
    "Luckily, our program does not have to be this fragile. By wrapping a code block with `try`, we can \"catch\" exceptions. If an exception occurs, instead of exiting, the computer immediately executes the matching `except` block and continues the program."
   ]
  },
  {
   "cell_type": "code",
   "execution_count": 139,
   "metadata": {
    "id": "ux-SXOj6R6LJ",
    "tags": []
   },
   "outputs": [
    {
     "name": "stdout",
     "output_type": "stream",
     "text": [
      "Program keeps on going...\n"
     ]
    }
   ],
   "source": [
    "try:\n",
    "    print('a'-'b')\n",
    "except:\n",
    "    pass\n",
    "\n",
    "print('Program keeps on going...')"
   ]
  },
  {
   "cell_type": "markdown",
   "metadata": {
    "id": "Yr3VDA6PR6LJ"
   },
   "source": [
    "Sometimes, you might want to do nothing in the event of an exception. However, an indented code block is still required! So, you can use the keyword `pass`."
   ]
  },
  {
   "cell_type": "code",
   "execution_count": null,
   "metadata": {
    "id": "U2B-di_ZR6LJ",
    "scrolled": true
   },
   "outputs": [],
   "source": [
    "#try:\n",
    "    #requesting that table from this url \n",
    "    #error timeout \n",
    "#except:\n",
    "    #request the same table but slower or in chunks "
   ]
  },
  {
   "cell_type": "markdown",
   "metadata": {
    "id": "tGFMSnGCR6LJ"
   },
   "source": [
    "We can also catch specific exceptions and use try/except in more ways, but we'll keep it brief for this introduction!"
   ]
  },
  {
   "cell_type": "markdown",
   "metadata": {
    "id": "nSJrtiaJR6LJ"
   },
   "source": [
    "---\n",
    "\n",
    "### 10) Try to convert elements in a list to floats.\n",
    "\n",
    "Create a new list with the converted numbers. If something cannot be converted, skip it and append nothing to the new list.\n",
    "\n",
    "_Hint: Use error-handling methods._"
   ]
  },
  {
   "cell_type": "code",
   "execution_count": 142,
   "metadata": {
    "id": "Fn9hpq2BR6LJ",
    "tags": []
   },
   "outputs": [],
   "source": [
    "corrupted = ['!1', '23.1', '23.4.5', '??12', '.12', '12-12', '-11.1', '0-1', '*12.1', '1000']"
   ]
  },
  {
   "cell_type": "code",
   "execution_count": 144,
   "metadata": {
    "id": "JQHmnsloR6LJ",
    "tags": []
   },
   "outputs": [
    {
     "name": "stdout",
     "output_type": "stream",
     "text": [
      "[23.1, 0.12, -11.1, 1000.0]\n"
     ]
    }
   ],
   "source": [
    "cleaned = []\n",
    "for i in corrupted:\n",
    "    try:\n",
    "        cleaned.append(float(i))\n",
    "    except:\n",
    "        pass\n",
    "\n",
    "print(cleaned)"
   ]
  },
  {
   "cell_type": "markdown",
   "metadata": {
    "id": "WnVGHdIUR6LJ"
   },
   "source": [
    "**Pop quiz!** For each of the following questions, would we use a for loop or a while loop?\n",
    "\n",
    "1. Look through a list to find the largest number.\n",
    "2. Flip a coin until heads shows up three times in a row.\n",
    "3. Print every value in a list.\n",
    "4. Animate a game screen until the player's health is zero.\n",
    "5. Check the weather every five seconds until it rains.\n"
   ]
  },
  {
   "cell_type": "markdown",
   "metadata": {
    "id": "DI4SX9Z7R6LJ"
   },
   "source": [
    "\n",
    "<a name=\"conclusion\"></a>\n",
    "## Lesson Summary\n",
    "\n",
    "\n",
    "Let's review what we learned today. We:\n",
    "\n",
    "- Reviewed `Python` control flow and conditional programming. \n",
    "- Implemented `for` and `while` loops to iterate through data structures.\n",
    "- Applied `if… else` conditional statements.\n",
    "- Created functions to perform repetitive actions.\n",
    "- Demonstrated error handling using `try, except` statements.\n",
    "- Combined control flow and conditional statements to solve the classic \"FizzBuzz\" code challenge.\n",
    "\n",
    "\n",
    "\n",
    "### Additional Questions?\n",
    "\n",
    "\n",
    "....\n",
    "\n",
    "### Additional Resources\n",
    "\n",
    "- [Learn Python on Codecademy](https://www.codecademy.com/learn/python)\n",
    "- [Learn Python the Hard Way](https://learnpythonthehardway.org)\n",
    "- [Python Data Types and Variables](http://www.python-course.eu/variables.php)\n",
    "- [Python IF… ELIF… ELSE Statements](https://www.tutorialspoint.com/python/python_if_else.htm)\n",
    "- [Python Loops](https://www.tutorialspoint.com/python/python_loops.htm)\n",
    "- [Python Control Flow](https://python.swaroopch.com/control_flow.html)"
   ]
  },
  {
   "cell_type": "code",
   "execution_count": null,
   "metadata": {
    "id": "TikkuIYsR6LK"
   },
   "outputs": [],
   "source": []
  }
 ],
 "metadata": {
  "anaconda-cloud": {},
  "colab": {
   "provenance": []
  },
  "kernelspec": {
   "display_name": "Python 3 (ipykernel)",
   "language": "python",
   "name": "python3"
  },
  "language_info": {
   "codemirror_mode": {
    "name": "ipython",
    "version": 3
   },
   "file_extension": ".py",
   "mimetype": "text/x-python",
   "name": "python",
   "nbconvert_exporter": "python",
   "pygments_lexer": "ipython3",
   "version": "3.11.4"
  }
 },
 "nbformat": 4,
 "nbformat_minor": 4
}
